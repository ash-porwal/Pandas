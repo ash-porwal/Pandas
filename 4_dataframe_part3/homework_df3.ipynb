{
 "cells": [
  {
   "cell_type": "markdown",
   "id": "7fab9fd0",
   "metadata": {},
   "source": [
    "Import Pandas"
   ]
  },
  {
   "cell_type": "code",
   "execution_count": null,
   "id": "21c4988c",
   "metadata": {},
   "outputs": [],
   "source": []
  },
  {
   "cell_type": "markdown",
   "id": "a7151a0a",
   "metadata": {},
   "source": [
    "Read the `pokemon.csv` file and set the index to `['Type 1', 'Name']`"
   ]
  },
  {
   "cell_type": "code",
   "execution_count": null,
   "id": "7becac7a",
   "metadata": {},
   "outputs": [],
   "source": []
  },
  {
   "cell_type": "markdown",
   "id": "87d5a10b",
   "metadata": {},
   "source": [
    "Sort the pokemons by `Type 1`"
   ]
  },
  {
   "cell_type": "code",
   "execution_count": null,
   "id": "33053eb6",
   "metadata": {},
   "outputs": [],
   "source": []
  },
  {
   "cell_type": "markdown",
   "id": "8f37f37b",
   "metadata": {},
   "source": [
    "Select all the `Fire` pokemons that start with the letter `C`"
   ]
  },
  {
   "cell_type": "code",
   "execution_count": null,
   "id": "1d25e8a3",
   "metadata": {},
   "outputs": [],
   "source": []
  },
  {
   "cell_type": "markdown",
   "id": "9dc7aca6",
   "metadata": {},
   "source": [
    "Using `agg()` get the `max`, `min` and the `mean` of all the pokemons for the columns `['Attack', 'Defense']` and round them to 1 decimal place."
   ]
  },
  {
   "cell_type": "code",
   "execution_count": null,
   "id": "47a62087",
   "metadata": {},
   "outputs": [],
   "source": []
  },
  {
   "cell_type": "markdown",
   "id": "420fecf1",
   "metadata": {},
   "source": [
    "Create a function that checks the Attack of a pokemon. If the `Attack` is over 100, it should now display `'STRONG'`, if it is less than that, it should display `'WEAK'`. Update the DataFrame to display this new Attack column`"
   ]
  },
  {
   "cell_type": "code",
   "execution_count": null,
   "id": "2b9a38ed",
   "metadata": {},
   "outputs": [],
   "source": []
  },
  {
   "cell_type": "code",
   "execution_count": null,
   "id": "46fb46cb",
   "metadata": {},
   "outputs": [],
   "source": []
  },
  {
   "cell_type": "markdown",
   "id": "9a89dc29",
   "metadata": {},
   "source": [
    "Create a new column called `Reversed` which holds each pokemon name reversed"
   ]
  },
  {
   "cell_type": "code",
   "execution_count": null,
   "id": "89eab183",
   "metadata": {
    "scrolled": true
   },
   "outputs": [],
   "source": []
  },
  {
   "cell_type": "markdown",
   "id": "6971fbab",
   "metadata": {},
   "source": [
    "Reset the index so that only `Name` shows as the index"
   ]
  },
  {
   "cell_type": "code",
   "execution_count": null,
   "id": "f1cb5b86",
   "metadata": {},
   "outputs": [],
   "source": []
  },
  {
   "cell_type": "code",
   "execution_count": null,
   "id": "e9b51c11",
   "metadata": {},
   "outputs": [],
   "source": []
  },
  {
   "cell_type": "code",
   "execution_count": null,
   "id": "11b443e1",
   "metadata": {},
   "outputs": [],
   "source": []
  }
 ],
 "metadata": {
  "kernelspec": {
   "display_name": "Python 3 (ipykernel)",
   "language": "python",
   "name": "python3"
  },
  "language_info": {
   "codemirror_mode": {
    "name": "ipython",
    "version": 3
   },
   "file_extension": ".py",
   "mimetype": "text/x-python",
   "name": "python",
   "nbconvert_exporter": "python",
   "pygments_lexer": "ipython3",
   "version": "3.10.9"
  }
 },
 "nbformat": 4,
 "nbformat_minor": 5
}
