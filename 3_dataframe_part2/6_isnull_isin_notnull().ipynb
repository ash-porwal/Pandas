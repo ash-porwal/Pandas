{
 "cells": [
  {
   "cell_type": "code",
   "execution_count": 1,
   "id": "5b9f485f",
   "metadata": {},
   "outputs": [],
   "source": [
    "import pandas as pd"
   ]
  },
  {
   "cell_type": "code",
   "execution_count": 2,
   "id": "8ac05303",
   "metadata": {},
   "outputs": [],
   "source": [
    "cols = ['name', 'survived', 'pclass', 'fare', 'age', 'sex']"
   ]
  },
  {
   "cell_type": "code",
   "execution_count": 3,
   "id": "4520c171",
   "metadata": {},
   "outputs": [
    {
     "data": {
      "text/html": [
       "<div>\n",
       "<style scoped>\n",
       "    .dataframe tbody tr th:only-of-type {\n",
       "        vertical-align: middle;\n",
       "    }\n",
       "\n",
       "    .dataframe tbody tr th {\n",
       "        vertical-align: top;\n",
       "    }\n",
       "\n",
       "    .dataframe thead th {\n",
       "        text-align: right;\n",
       "    }\n",
       "</style>\n",
       "<table border=\"1\" class=\"dataframe\">\n",
       "  <thead>\n",
       "    <tr style=\"text-align: right;\">\n",
       "      <th></th>\n",
       "      <th>pclass</th>\n",
       "      <th>survived</th>\n",
       "      <th>sex</th>\n",
       "      <th>age</th>\n",
       "      <th>fare</th>\n",
       "    </tr>\n",
       "    <tr>\n",
       "      <th>name</th>\n",
       "      <th></th>\n",
       "      <th></th>\n",
       "      <th></th>\n",
       "      <th></th>\n",
       "      <th></th>\n",
       "    </tr>\n",
       "  </thead>\n",
       "  <tbody>\n",
       "    <tr>\n",
       "      <th>Allen, Miss. Elisabeth Walton</th>\n",
       "      <td>1</td>\n",
       "      <td>1</td>\n",
       "      <td>female</td>\n",
       "      <td>29.0000</td>\n",
       "      <td>211.3375</td>\n",
       "    </tr>\n",
       "    <tr>\n",
       "      <th>Allison, Master. Hudson Trevor</th>\n",
       "      <td>1</td>\n",
       "      <td>1</td>\n",
       "      <td>male</td>\n",
       "      <td>0.9167</td>\n",
       "      <td>151.5500</td>\n",
       "    </tr>\n",
       "    <tr>\n",
       "      <th>Allison, Miss. Helen Loraine</th>\n",
       "      <td>1</td>\n",
       "      <td>0</td>\n",
       "      <td>female</td>\n",
       "      <td>2.0000</td>\n",
       "      <td>151.5500</td>\n",
       "    </tr>\n",
       "    <tr>\n",
       "      <th>Allison, Mr. Hudson Joshua Creighton</th>\n",
       "      <td>1</td>\n",
       "      <td>0</td>\n",
       "      <td>male</td>\n",
       "      <td>30.0000</td>\n",
       "      <td>151.5500</td>\n",
       "    </tr>\n",
       "    <tr>\n",
       "      <th>Allison, Mrs. Hudson J C (Bessie Waldo Daniels)</th>\n",
       "      <td>1</td>\n",
       "      <td>0</td>\n",
       "      <td>female</td>\n",
       "      <td>25.0000</td>\n",
       "      <td>151.5500</td>\n",
       "    </tr>\n",
       "  </tbody>\n",
       "</table>\n",
       "</div>"
      ],
      "text/plain": [
       "                                                 pclass  survived     sex  \\\n",
       "name                                                                        \n",
       "Allen, Miss. Elisabeth Walton                         1         1  female   \n",
       "Allison, Master. Hudson Trevor                        1         1    male   \n",
       "Allison, Miss. Helen Loraine                          1         0  female   \n",
       "Allison, Mr. Hudson Joshua Creighton                  1         0    male   \n",
       "Allison, Mrs. Hudson J C (Bessie Waldo Daniels)       1         0  female   \n",
       "\n",
       "                                                     age      fare  \n",
       "name                                                                \n",
       "Allen, Miss. Elisabeth Walton                    29.0000  211.3375  \n",
       "Allison, Master. Hudson Trevor                    0.9167  151.5500  \n",
       "Allison, Miss. Helen Loraine                      2.0000  151.5500  \n",
       "Allison, Mr. Hudson Joshua Creighton             30.0000  151.5500  \n",
       "Allison, Mrs. Hudson J C (Bessie Waldo Daniels)  25.0000  151.5500  "
      ]
     },
     "execution_count": 3,
     "metadata": {},
     "output_type": "execute_result"
    }
   ],
   "source": [
    "df = pd.read_excel('titanic3.xls', usecols=cols, index_col='name')\n",
    "df.head()"
   ]
  },
  {
   "cell_type": "markdown",
   "id": "4912653b",
   "metadata": {},
   "source": [
    "Let's select the passengers who are in 1st or 2nd class"
   ]
  },
  {
   "cell_type": "code",
   "execution_count": 4,
   "id": "f2433234",
   "metadata": {},
   "outputs": [
    {
     "data": {
      "text/html": [
       "<div>\n",
       "<style scoped>\n",
       "    .dataframe tbody tr th:only-of-type {\n",
       "        vertical-align: middle;\n",
       "    }\n",
       "\n",
       "    .dataframe tbody tr th {\n",
       "        vertical-align: top;\n",
       "    }\n",
       "\n",
       "    .dataframe thead th {\n",
       "        text-align: right;\n",
       "    }\n",
       "</style>\n",
       "<table border=\"1\" class=\"dataframe\">\n",
       "  <thead>\n",
       "    <tr style=\"text-align: right;\">\n",
       "      <th></th>\n",
       "      <th>pclass</th>\n",
       "      <th>survived</th>\n",
       "      <th>sex</th>\n",
       "      <th>age</th>\n",
       "      <th>fare</th>\n",
       "    </tr>\n",
       "    <tr>\n",
       "      <th>name</th>\n",
       "      <th></th>\n",
       "      <th></th>\n",
       "      <th></th>\n",
       "      <th></th>\n",
       "      <th></th>\n",
       "    </tr>\n",
       "  </thead>\n",
       "  <tbody>\n",
       "    <tr>\n",
       "      <th>Allen, Miss. Elisabeth Walton</th>\n",
       "      <td>1</td>\n",
       "      <td>1</td>\n",
       "      <td>female</td>\n",
       "      <td>29.0000</td>\n",
       "      <td>211.3375</td>\n",
       "    </tr>\n",
       "    <tr>\n",
       "      <th>Allison, Master. Hudson Trevor</th>\n",
       "      <td>1</td>\n",
       "      <td>1</td>\n",
       "      <td>male</td>\n",
       "      <td>0.9167</td>\n",
       "      <td>151.5500</td>\n",
       "    </tr>\n",
       "    <tr>\n",
       "      <th>Allison, Miss. Helen Loraine</th>\n",
       "      <td>1</td>\n",
       "      <td>0</td>\n",
       "      <td>female</td>\n",
       "      <td>2.0000</td>\n",
       "      <td>151.5500</td>\n",
       "    </tr>\n",
       "    <tr>\n",
       "      <th>Allison, Mr. Hudson Joshua Creighton</th>\n",
       "      <td>1</td>\n",
       "      <td>0</td>\n",
       "      <td>male</td>\n",
       "      <td>30.0000</td>\n",
       "      <td>151.5500</td>\n",
       "    </tr>\n",
       "    <tr>\n",
       "      <th>Allison, Mrs. Hudson J C (Bessie Waldo Daniels)</th>\n",
       "      <td>1</td>\n",
       "      <td>0</td>\n",
       "      <td>female</td>\n",
       "      <td>25.0000</td>\n",
       "      <td>151.5500</td>\n",
       "    </tr>\n",
       "    <tr>\n",
       "      <th>...</th>\n",
       "      <td>...</td>\n",
       "      <td>...</td>\n",
       "      <td>...</td>\n",
       "      <td>...</td>\n",
       "      <td>...</td>\n",
       "    </tr>\n",
       "    <tr>\n",
       "      <th>Wheeler, Mr. Edwin \"Frederick\"</th>\n",
       "      <td>2</td>\n",
       "      <td>0</td>\n",
       "      <td>male</td>\n",
       "      <td>NaN</td>\n",
       "      <td>12.8750</td>\n",
       "    </tr>\n",
       "    <tr>\n",
       "      <th>Wilhelms, Mr. Charles</th>\n",
       "      <td>2</td>\n",
       "      <td>1</td>\n",
       "      <td>male</td>\n",
       "      <td>31.0000</td>\n",
       "      <td>13.0000</td>\n",
       "    </tr>\n",
       "    <tr>\n",
       "      <th>Williams, Mr. Charles Eugene</th>\n",
       "      <td>2</td>\n",
       "      <td>1</td>\n",
       "      <td>male</td>\n",
       "      <td>NaN</td>\n",
       "      <td>13.0000</td>\n",
       "    </tr>\n",
       "    <tr>\n",
       "      <th>Wright, Miss. Marion</th>\n",
       "      <td>2</td>\n",
       "      <td>1</td>\n",
       "      <td>female</td>\n",
       "      <td>26.0000</td>\n",
       "      <td>13.5000</td>\n",
       "    </tr>\n",
       "    <tr>\n",
       "      <th>Yrois, Miss. Henriette (\"Mrs Harbeck\")</th>\n",
       "      <td>2</td>\n",
       "      <td>0</td>\n",
       "      <td>female</td>\n",
       "      <td>24.0000</td>\n",
       "      <td>13.0000</td>\n",
       "    </tr>\n",
       "  </tbody>\n",
       "</table>\n",
       "<p>600 rows × 5 columns</p>\n",
       "</div>"
      ],
      "text/plain": [
       "                                                 pclass  survived     sex  \\\n",
       "name                                                                        \n",
       "Allen, Miss. Elisabeth Walton                         1         1  female   \n",
       "Allison, Master. Hudson Trevor                        1         1    male   \n",
       "Allison, Miss. Helen Loraine                          1         0  female   \n",
       "Allison, Mr. Hudson Joshua Creighton                  1         0    male   \n",
       "Allison, Mrs. Hudson J C (Bessie Waldo Daniels)       1         0  female   \n",
       "...                                                 ...       ...     ...   \n",
       "Wheeler, Mr. Edwin \"Frederick\"                        2         0    male   \n",
       "Wilhelms, Mr. Charles                                 2         1    male   \n",
       "Williams, Mr. Charles Eugene                          2         1    male   \n",
       "Wright, Miss. Marion                                  2         1  female   \n",
       "Yrois, Miss. Henriette (\"Mrs Harbeck\")                2         0  female   \n",
       "\n",
       "                                                     age      fare  \n",
       "name                                                                \n",
       "Allen, Miss. Elisabeth Walton                    29.0000  211.3375  \n",
       "Allison, Master. Hudson Trevor                    0.9167  151.5500  \n",
       "Allison, Miss. Helen Loraine                      2.0000  151.5500  \n",
       "Allison, Mr. Hudson Joshua Creighton             30.0000  151.5500  \n",
       "Allison, Mrs. Hudson J C (Bessie Waldo Daniels)  25.0000  151.5500  \n",
       "...                                                  ...       ...  \n",
       "Wheeler, Mr. Edwin \"Frederick\"                       NaN   12.8750  \n",
       "Wilhelms, Mr. Charles                            31.0000   13.0000  \n",
       "Williams, Mr. Charles Eugene                         NaN   13.0000  \n",
       "Wright, Miss. Marion                             26.0000   13.5000  \n",
       "Yrois, Miss. Henriette (\"Mrs Harbeck\")           24.0000   13.0000  \n",
       "\n",
       "[600 rows x 5 columns]"
      ]
     },
     "execution_count": 4,
     "metadata": {},
     "output_type": "execute_result"
    }
   ],
   "source": [
    "fist_class = df['pclass'] == 1\n",
    "second_class = df['pclass'] == 2\n",
    "\n",
    "df[fist_class | second_class]"
   ]
  },
  {
   "cell_type": "markdown",
   "id": "873f2898",
   "metadata": {},
   "source": [
    "Above works fine, but there is better way with `isin()`"
   ]
  },
  {
   "cell_type": "code",
   "execution_count": 5,
   "id": "25e1b041",
   "metadata": {},
   "outputs": [
    {
     "data": {
      "text/plain": [
       "name\n",
       "Allen, Miss. Elisabeth Walton                       True\n",
       "Allison, Master. Hudson Trevor                      True\n",
       "Allison, Miss. Helen Loraine                        True\n",
       "Allison, Mr. Hudson Joshua Creighton                True\n",
       "Allison, Mrs. Hudson J C (Bessie Waldo Daniels)     True\n",
       "                                                   ...  \n",
       "Zabour, Miss. Hileni                               False\n",
       "Zabour, Miss. Thamine                              False\n",
       "Zakarian, Mr. Mapriededer                          False\n",
       "Zakarian, Mr. Ortin                                False\n",
       "Zimmerman, Mr. Leo                                 False\n",
       "Name: pclass, Length: 1309, dtype: bool"
      ]
     },
     "execution_count": 5,
     "metadata": {},
     "output_type": "execute_result"
    }
   ],
   "source": [
    "df['pclass'].isin([1,2])"
   ]
  },
  {
   "cell_type": "markdown",
   "id": "b89b1f94",
   "metadata": {},
   "source": [
    "How to find null values"
   ]
  },
  {
   "cell_type": "code",
   "execution_count": 6,
   "id": "239cffb1",
   "metadata": {},
   "outputs": [
    {
     "data": {
      "text/plain": [
       "name\n",
       "Allen, Miss. Elisabeth Walton                      False\n",
       "Allison, Master. Hudson Trevor                     False\n",
       "Allison, Miss. Helen Loraine                       False\n",
       "Allison, Mr. Hudson Joshua Creighton               False\n",
       "Allison, Mrs. Hudson J C (Bessie Waldo Daniels)    False\n",
       "                                                   ...  \n",
       "Zabour, Miss. Hileni                               False\n",
       "Zabour, Miss. Thamine                               True\n",
       "Zakarian, Mr. Mapriededer                          False\n",
       "Zakarian, Mr. Ortin                                False\n",
       "Zimmerman, Mr. Leo                                 False\n",
       "Name: age, Length: 1309, dtype: bool"
      ]
     },
     "execution_count": 6,
     "metadata": {},
     "output_type": "execute_result"
    }
   ],
   "source": [
    "df['age'].isnull() # checks if value is null in that column or not"
   ]
  },
  {
   "cell_type": "code",
   "execution_count": 8,
   "id": "c00ac5c3",
   "metadata": {},
   "outputs": [
    {
     "data": {
      "text/plain": [
       "name\n",
       "Allen, Miss. Elisabeth Walton                       True\n",
       "Allison, Master. Hudson Trevor                      True\n",
       "Allison, Miss. Helen Loraine                        True\n",
       "Allison, Mr. Hudson Joshua Creighton                True\n",
       "Allison, Mrs. Hudson J C (Bessie Waldo Daniels)     True\n",
       "                                                   ...  \n",
       "Zabour, Miss. Hileni                                True\n",
       "Zabour, Miss. Thamine                              False\n",
       "Zakarian, Mr. Mapriededer                           True\n",
       "Zakarian, Mr. Ortin                                 True\n",
       "Zimmerman, Mr. Leo                                  True\n",
       "Name: age, Length: 1309, dtype: bool"
      ]
     },
     "execution_count": 8,
     "metadata": {},
     "output_type": "execute_result"
    }
   ],
   "source": [
    "df['age'].notnull() # we can check which element is not null"
   ]
  }
 ],
 "metadata": {
  "kernelspec": {
   "display_name": "Python 3",
   "language": "python",
   "name": "python3"
  },
  "language_info": {
   "codemirror_mode": {
    "name": "ipython",
    "version": 3
   },
   "file_extension": ".py",
   "mimetype": "text/x-python",
   "name": "python",
   "nbconvert_exporter": "python",
   "pygments_lexer": "ipython3",
   "version": "3.8.8"
  }
 },
 "nbformat": 4,
 "nbformat_minor": 5
}
