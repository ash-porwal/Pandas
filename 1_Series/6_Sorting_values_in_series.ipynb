{
 "cells": [
  {
   "cell_type": "code",
   "execution_count": 1,
   "id": "1b35ea4f",
   "metadata": {},
   "outputs": [],
   "source": [
    "import pandas as pd"
   ]
  },
  {
   "cell_type": "code",
   "execution_count": 3,
   "id": "987f7bb8",
   "metadata": {},
   "outputs": [
    {
     "data": {
      "text/plain": [
       "0                     Elon Musk\n",
       "1                    Jeff Bezos\n",
       "2      Bernard Arnault & family\n",
       "3                    Bill Gates\n",
       "4                Warren Buffett\n",
       "                 ...           \n",
       "96             Vladimir Potanin\n",
       "97         Harold Hamm & family\n",
       "98                 Sun Piaoyang\n",
       "99           Luo Liguo & family\n",
       "100                   Peter Woo\n",
       "Name: Name, Length: 101, dtype: object"
      ]
     },
     "execution_count": 3,
     "metadata": {},
     "output_type": "execute_result"
    }
   ],
   "source": [
    "# Lets say I want to sort Names\n",
    "rich_people = pd.read_csv(\"TopRichestInWorld.csv\", usecols=['Name']).squeeze()\n",
    "rich_people"
   ]
  },
  {
   "cell_type": "code",
   "execution_count": 7,
   "id": "ee2fd621",
   "metadata": {},
   "outputs": [
    {
     "data": {
      "text/plain": [
       "0           Abigail Johnson\n",
       "1          Alain Wertheimer\n",
       "2              Alice Walton\n",
       "3            Amancio Ortega\n",
       "4            Andrew Forrest\n",
       "               ...         \n",
       "96           Warren Buffett\n",
       "97         William Lei Ding\n",
       "98     Yang Huiyan & family\n",
       "99             Zhang Yiming\n",
       "100          Zhong Shanshan\n",
       "Name: Name, Length: 101, dtype: object"
      ]
     },
     "execution_count": 7,
     "metadata": {},
     "output_type": "execute_result"
    }
   ],
   "source": [
    "# so, to sort I am gonna use .sort_value\n",
    "rich_people.sort_values(axis=0,\n",
    "                        ascending=True, # By deafult it is set to True, doing it False will sort in reverse of it. \n",
    "                        inplace=False # if we set inplave to True then it will overwrite our rich_people Series.\n",
    "                        kind = 'quicksort', # We can define which Algorithm we want to use while sorting \n",
    "                        na_position='last', # If we do it last then all the NaN values will be shifted to bottom(last)  and we can only use first or last in na_position\n",
    "                        ignore_index=True # if we want to re-set the index: it will leave the older index from the series and reset it from starting.\n",
    "                       ) \n",
    "# sort_value takes in which axis we want to sort, but above I've made already a Series\n",
    "# And Series is only 1 Dimensional, so there is no point of setting axis in it\n",
    "# When axis is 0 then it refer index(row) axis.\n",
    "# When axis is 1 then it refer to column axis.\n",
    "# So, default value is 0 in axis."
   ]
  }
 ],
 "metadata": {
  "kernelspec": {
   "display_name": "Python 3",
   "language": "python",
   "name": "python3"
  },
  "language_info": {
   "codemirror_mode": {
    "name": "ipython",
    "version": 3
   },
   "file_extension": ".py",
   "mimetype": "text/x-python",
   "name": "python",
   "nbconvert_exporter": "python",
   "pygments_lexer": "ipython3",
   "version": "3.8.8"
  }
 },
 "nbformat": 4,
 "nbformat_minor": 5
}
