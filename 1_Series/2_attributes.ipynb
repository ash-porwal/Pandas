{
 "cells": [
  {
   "cell_type": "markdown",
   "id": "832e58f2",
   "metadata": {},
   "source": [
    "### Attributes\n",
    "* Attributes are variables that belong to a pandas object (like a DataFrame or Series).\n",
    "* They represent the properties of that object and do not change the object itself.\n",
    "* You access an attribute using the dot notation, and they do not require parentheses\n",
    "* Attributes are typically used to retrieve specific information about the state or properties of an object."
   ]
  },
  {
   "cell_type": "code",
   "execution_count": 3,
   "id": "ec7dce5d",
   "metadata": {},
   "outputs": [
    {
     "name": "stdout",
     "output_type": "stream",
     "text": [
      "      Name  Age\n",
      "0    Alice   25\n",
      "1      Bob   30\n",
      "2  Charlie   35\n",
      "\n",
      "Shape of DataFrame: (3, 2)\n"
     ]
    }
   ],
   "source": [
    "import pandas as pd\n",
    "\n",
    "data = {\n",
    "    'Name': ['Alice', 'Bob', 'Charlie'], \n",
    "    'Age': [25, 30, 35]\n",
    "}\n",
    "\n",
    "# Creating a simple DataFrame\n",
    "df = pd.DataFrame(data)\n",
    "print(df)\n",
    "print()\n",
    "\n",
    "# Accessing an attribute: 'shape'\n",
    "# 'shape' returns the dimensions of the DataFrame\n",
    "# shape attribute help us find df dimensions (number of rows and columns)\n",
    "print(\"Shape of DataFrame:\", df.shape)"
   ]
  },
  {
   "cell_type": "code",
   "execution_count": 4,
   "id": "797eece0",
   "metadata": {},
   "outputs": [
    {
     "data": {
      "text/plain": [
       "dtype('int64')"
      ]
     },
     "execution_count": 4,
     "metadata": {},
     "output_type": "execute_result"
    }
   ],
   "source": [
    "# lets try on Series\n",
    "\n",
    "num = [1,2,3,4]\n",
    "df = pd.Series(num)\n",
    "\n",
    "# lets try to find out data type for the series\n",
    "df.dtype"
   ]
  },
  {
   "cell_type": "code",
   "execution_count": 5,
   "id": "7532639b",
   "metadata": {},
   "outputs": [
    {
     "data": {
      "text/plain": [
       "dtype('O')"
      ]
     },
     "execution_count": 5,
     "metadata": {},
     "output_type": "execute_result"
    }
   ],
   "source": [
    "# lets try it on alphabets\n",
    "\n",
    "name = [\"ash\", \"porwal\"]\n",
    "df = pd.Series(name)\n",
    "df.dtype # this will return dtype('O') and O stands for Object"
   ]
  },
  {
   "cell_type": "code",
   "execution_count": 6,
   "id": "9832581b",
   "metadata": {},
   "outputs": [
    {
     "data": {
      "text/plain": [
       "['ash', 'porwal']"
      ]
     },
     "execution_count": 6,
     "metadata": {},
     "output_type": "execute_result"
    }
   ],
   "source": [
    "# we can even get the array of that pandas object\n",
    "df.values # if you want it to suggest you methods/attributes then press TAB after dot(.)\n",
    "\n",
    "# further if you want to convert that into proper list then\n",
    "list(df.values)"
   ]
  },
  {
   "cell_type": "code",
   "execution_count": 7,
   "id": "037c5d16",
   "metadata": {},
   "outputs": [
    {
     "data": {
      "text/plain": [
       "RangeIndex(start=0, stop=2, step=1)"
      ]
     },
     "execution_count": 7,
     "metadata": {},
     "output_type": "execute_result"
    }
   ],
   "source": [
    "# we can get the information about the index as well\n",
    "df.index"
   ]
  },
  {
   "cell_type": "code",
   "execution_count": 8,
   "id": "2fa8c6e4",
   "metadata": {},
   "outputs": [
    {
     "data": {
      "text/plain": [
       "False"
      ]
     },
     "execution_count": 8,
     "metadata": {},
     "output_type": "execute_result"
    }
   ],
   "source": [
    "# sometimes our pandas object contains NaN(missing values)\n",
    "# to find out we have this attribute -> returns Boolean\n",
    "df.hasnans"
   ]
  },
  {
   "cell_type": "code",
   "execution_count": 9,
   "id": "e42f2e0a",
   "metadata": {},
   "outputs": [
    {
     "name": "stdout",
     "output_type": "stream",
     "text": [
      "0    32.0\n",
      "1    45.0\n",
      "2     NaN\n",
      "dtype: float64\n",
      "\n"
     ]
    },
    {
     "data": {
      "text/plain": [
       "True"
      ]
     },
     "execution_count": 9,
     "metadata": {},
     "output_type": "execute_result"
    }
   ],
   "source": [
    "# lets create a new series with missing value\n",
    "new_df = pd.Series(data=[32,45,None]) # None will get convert into NaN\n",
    "print(new_df)\n",
    "print()\n",
    "\n",
    "# lets check if it has None or not with attribute\n",
    "new_df.hasnans"
   ]
  },
  {
   "cell_type": "code",
   "execution_count": 11,
   "id": "5e9ec325",
   "metadata": {},
   "outputs": [
    {
     "data": {
      "text/plain": [
       "3"
      ]
     },
     "execution_count": 11,
     "metadata": {},
     "output_type": "execute_result"
    }
   ],
   "source": [
    "# lets try to find out size of the series\n",
    "new_df.size #as new_df contains 3 elements so it will return 3"
   ]
  }
 ],
 "metadata": {
  "kernelspec": {
   "display_name": "Python 3",
   "language": "python",
   "name": "python3"
  },
  "language_info": {
   "codemirror_mode": {
    "name": "ipython",
    "version": 3
   },
   "file_extension": ".py",
   "mimetype": "text/x-python",
   "name": "python",
   "nbconvert_exporter": "python",
   "pygments_lexer": "ipython3",
   "version": "3.8.8"
  }
 },
 "nbformat": 4,
 "nbformat_minor": 5
}
