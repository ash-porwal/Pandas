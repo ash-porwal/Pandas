{
 "cells": [
  {
   "cell_type": "code",
   "execution_count": 1,
   "id": "37f812e8",
   "metadata": {},
   "outputs": [],
   "source": [
    "import pandas as pd"
   ]
  },
  {
   "cell_type": "code",
   "execution_count": 2,
   "id": "b042ffc2",
   "metadata": {},
   "outputs": [
    {
     "data": {
      "text/html": [
       "<div>\n",
       "<style scoped>\n",
       "    .dataframe tbody tr th:only-of-type {\n",
       "        vertical-align: middle;\n",
       "    }\n",
       "\n",
       "    .dataframe tbody tr th {\n",
       "        vertical-align: top;\n",
       "    }\n",
       "\n",
       "    .dataframe thead th {\n",
       "        text-align: right;\n",
       "    }\n",
       "</style>\n",
       "<table border=\"1\" class=\"dataframe\">\n",
       "  <thead>\n",
       "    <tr style=\"text-align: right;\">\n",
       "      <th></th>\n",
       "      <th>Name</th>\n",
       "      <th>NetWorth</th>\n",
       "      <th>Age</th>\n",
       "      <th>Country/Territory</th>\n",
       "      <th>Source</th>\n",
       "      <th>Industry</th>\n",
       "    </tr>\n",
       "  </thead>\n",
       "  <tbody>\n",
       "    <tr>\n",
       "      <th>0</th>\n",
       "      <td>Elon Musk</td>\n",
       "      <td>$219,000,000,000</td>\n",
       "      <td>50</td>\n",
       "      <td>United States</td>\n",
       "      <td>Tesla, SpaceX</td>\n",
       "      <td>Automotive</td>\n",
       "    </tr>\n",
       "    <tr>\n",
       "      <th>1</th>\n",
       "      <td>Jeff Bezos</td>\n",
       "      <td>$171,000,000,000</td>\n",
       "      <td>58</td>\n",
       "      <td>United States</td>\n",
       "      <td>Amazon</td>\n",
       "      <td>Technology</td>\n",
       "    </tr>\n",
       "    <tr>\n",
       "      <th>2</th>\n",
       "      <td>Bernard Arnault &amp; family</td>\n",
       "      <td>$158,000,000,000</td>\n",
       "      <td>73</td>\n",
       "      <td>France</td>\n",
       "      <td>LVMH</td>\n",
       "      <td>Fashion &amp; Retail</td>\n",
       "    </tr>\n",
       "    <tr>\n",
       "      <th>3</th>\n",
       "      <td>Bill Gates</td>\n",
       "      <td>$129,000,000,000</td>\n",
       "      <td>66</td>\n",
       "      <td>United States</td>\n",
       "      <td>Microsoft</td>\n",
       "      <td>Technology</td>\n",
       "    </tr>\n",
       "    <tr>\n",
       "      <th>4</th>\n",
       "      <td>Warren Buffett</td>\n",
       "      <td>$118,000,000,000</td>\n",
       "      <td>91</td>\n",
       "      <td>United States</td>\n",
       "      <td>Berkshire Hathaway</td>\n",
       "      <td>Finance &amp; Investments</td>\n",
       "    </tr>\n",
       "    <tr>\n",
       "      <th>...</th>\n",
       "      <td>...</td>\n",
       "      <td>...</td>\n",
       "      <td>...</td>\n",
       "      <td>...</td>\n",
       "      <td>...</td>\n",
       "      <td>...</td>\n",
       "    </tr>\n",
       "    <tr>\n",
       "      <th>96</th>\n",
       "      <td>Vladimir Potanin</td>\n",
       "      <td>$17,300,000,000</td>\n",
       "      <td>61</td>\n",
       "      <td>Russia</td>\n",
       "      <td>metals</td>\n",
       "      <td>Metals &amp; Mining</td>\n",
       "    </tr>\n",
       "    <tr>\n",
       "      <th>97</th>\n",
       "      <td>Harold Hamm &amp; family</td>\n",
       "      <td>$17,200,000,000</td>\n",
       "      <td>76</td>\n",
       "      <td>United States</td>\n",
       "      <td>oil &amp; gas</td>\n",
       "      <td>Energy</td>\n",
       "    </tr>\n",
       "    <tr>\n",
       "      <th>98</th>\n",
       "      <td>Sun Piaoyang</td>\n",
       "      <td>$17,100,000,000</td>\n",
       "      <td>63</td>\n",
       "      <td>China</td>\n",
       "      <td>pharmaceuticals</td>\n",
       "      <td>Healthcare</td>\n",
       "    </tr>\n",
       "    <tr>\n",
       "      <th>99</th>\n",
       "      <td>Luo Liguo &amp; family</td>\n",
       "      <td>$17,000,000,000</td>\n",
       "      <td>66</td>\n",
       "      <td>China</td>\n",
       "      <td>chemicals</td>\n",
       "      <td>Manufacturing</td>\n",
       "    </tr>\n",
       "    <tr>\n",
       "      <th>100</th>\n",
       "      <td>Peter Woo</td>\n",
       "      <td>$17,000,000,000</td>\n",
       "      <td>75</td>\n",
       "      <td>Hong Kong</td>\n",
       "      <td>real estate</td>\n",
       "      <td>Real Estate</td>\n",
       "    </tr>\n",
       "  </tbody>\n",
       "</table>\n",
       "<p>101 rows × 6 columns</p>\n",
       "</div>"
      ],
      "text/plain": [
       "                         Name          NetWorth  Age Country/Territory  \\\n",
       "0                   Elon Musk  $219,000,000,000   50     United States   \n",
       "1                  Jeff Bezos  $171,000,000,000   58     United States   \n",
       "2    Bernard Arnault & family  $158,000,000,000   73            France   \n",
       "3                  Bill Gates  $129,000,000,000   66     United States   \n",
       "4              Warren Buffett  $118,000,000,000   91     United States   \n",
       "..                        ...               ...  ...               ...   \n",
       "96           Vladimir Potanin   $17,300,000,000   61            Russia   \n",
       "97       Harold Hamm & family   $17,200,000,000   76     United States   \n",
       "98               Sun Piaoyang   $17,100,000,000   63             China   \n",
       "99         Luo Liguo & family   $17,000,000,000   66             China   \n",
       "100                 Peter Woo   $17,000,000,000   75         Hong Kong   \n",
       "\n",
       "                 Source               Industry  \n",
       "0         Tesla, SpaceX             Automotive  \n",
       "1                Amazon             Technology  \n",
       "2                  LVMH       Fashion & Retail  \n",
       "3             Microsoft             Technology  \n",
       "4    Berkshire Hathaway  Finance & Investments  \n",
       "..                  ...                    ...  \n",
       "96               metals        Metals & Mining  \n",
       "97            oil & gas                 Energy  \n",
       "98      pharmaceuticals             Healthcare  \n",
       "99            chemicals          Manufacturing  \n",
       "100         real estate            Real Estate  \n",
       "\n",
       "[101 rows x 6 columns]"
      ]
     },
     "execution_count": 2,
     "metadata": {},
     "output_type": "execute_result"
    }
   ],
   "source": [
    "rich = pd.read_csv(\"TopRichestInWorld.csv\")\n",
    "rich"
   ]
  },
  {
   "cell_type": "code",
   "execution_count": 4,
   "id": "77fd8f66",
   "metadata": {},
   "outputs": [
    {
     "data": {
      "text/plain": [
       "0                 Automotive\n",
       "1                 Technology\n",
       "2           Fashion & Retail\n",
       "3                 Technology\n",
       "4      Finance & Investments\n",
       "               ...          \n",
       "96           Metals & Mining\n",
       "97                    Energy\n",
       "98                Healthcare\n",
       "99             Manufacturing\n",
       "100              Real Estate\n",
       "Name: Industry, Length: 101, dtype: object"
      ]
     },
     "execution_count": 4,
     "metadata": {},
     "output_type": "execute_result"
    }
   ],
   "source": [
    "# Value count will count the value of occurence\n",
    "# So lets make a series of Industry column\n",
    "rich = pd.read_csv(\"TopRichestInWorld.csv\", usecols=['Industry']).squeeze()\n",
    "rich"
   ]
  },
  {
   "cell_type": "code",
   "execution_count": 6,
   "id": "8dd4cb35",
   "metadata": {},
   "outputs": [
    {
     "data": {
      "text/plain": [
       "Fashion & Retail         18\n",
       "Technology               15\n",
       "Finance & Investments    13\n",
       "Metals & Mining           9\n",
       "Food & Beverage           8\n",
       "Automotive                7\n",
       "Diversified               6\n",
       "Healthcare                5\n",
       "Manufacturing             5\n",
       "Media & Entertainment     4\n",
       "Real Estate               3\n",
       "Telecom                   2\n",
       "Logistics                 2\n",
       "Energy                    2\n",
       "Service                   1\n",
       "Gambling & Casinos        1\n",
       "Name: Industry, dtype: int64"
      ]
     },
     "execution_count": 6,
     "metadata": {},
     "output_type": "execute_result"
    }
   ],
   "source": [
    "# lets count the value of each industry\n",
    "rich.value_counts()"
   ]
  },
  {
   "cell_type": "code",
   "execution_count": 8,
   "id": "d2648554",
   "metadata": {},
   "outputs": [
    {
     "data": {
      "text/plain": [
       "Fashion & Retail         0.178218\n",
       "Technology               0.148515\n",
       "Finance & Investments    0.128713\n",
       "Metals & Mining          0.089109\n",
       "Food & Beverage          0.079208\n",
       "Automotive               0.069307\n",
       "Diversified              0.059406\n",
       "Healthcare               0.049505\n",
       "Manufacturing            0.049505\n",
       "Media & Entertainment    0.039604\n",
       "Real Estate              0.029703\n",
       "Telecom                  0.019802\n",
       "Logistics                0.019802\n",
       "Energy                   0.019802\n",
       "Service                  0.009901\n",
       "Gambling & Casinos       0.009901\n",
       "Name: Industry, dtype: float64"
      ]
     },
     "execution_count": 8,
     "metadata": {},
     "output_type": "execute_result"
    }
   ],
   "source": [
    "# Lets know what parameters does value_count() take\n",
    "rich.value_counts(normalize=True, # if we set it to True then we are gonna get in percentage\n",
    "                  sort=True, # by default it is True, so it sort the number of frequency from high to low, so setting it False we can get lowest repeated item at top.\n",
    "                  ascending=False, # by default it is False, means it will go from highest to lowest number.\n",
    "                  dropna=True, # by default it is True - it will drop those values to count which has None value.\n",
    "                 #bin=# This only works with Numerical values\n",
    "                 )"
   ]
  },
  {
   "cell_type": "code",
   "execution_count": 9,
   "id": "d75e98da",
   "metadata": {},
   "outputs": [
    {
     "data": {
      "text/plain": [
       "(55.6, 68.4]      33\n",
       "(68.4, 81.2]      27\n",
       "(81.2, 94.0]      19\n",
       "(42.8, 55.6]      17\n",
       "(29.935, 42.8]     5\n",
       "Name: Age, dtype: int64"
      ]
     },
     "execution_count": 9,
     "metadata": {},
     "output_type": "execute_result"
    }
   ],
   "source": [
    "# Lets look at what does bins do\n",
    "rich = pd.read_csv(\"TopRichestInWorld.csv\", usecols=['Age']).squeeze()\n",
    "rich.value_counts(bins=5) # so it will create a group, like in output I am gonna get like below\n",
    "\"\"\"\n",
    "(55.6, 68.4]      33\n",
    "(68.4, 81.2]      27\n",
    "(81.2, 94.0]      19\n",
    "(42.8, 55.6]      17\n",
    "(29.935, 42.8]     5  # here it means there are 5 people in age group of 29.935 and 42.8\n",
    "Name: Age, dtype: int64\n",
    "\"\"\""
   ]
  },
  {
   "cell_type": "code",
   "execution_count": null,
   "id": "4839ec3f",
   "metadata": {},
   "outputs": [],
   "source": []
  }
 ],
 "metadata": {
  "kernelspec": {
   "display_name": "Python 3",
   "language": "python",
   "name": "python3"
  },
  "language_info": {
   "codemirror_mode": {
    "name": "ipython",
    "version": 3
   },
   "file_extension": ".py",
   "mimetype": "text/x-python",
   "name": "python",
   "nbconvert_exporter": "python",
   "pygments_lexer": "ipython3",
   "version": "3.8.8"
  }
 },
 "nbformat": 4,
 "nbformat_minor": 5
}
