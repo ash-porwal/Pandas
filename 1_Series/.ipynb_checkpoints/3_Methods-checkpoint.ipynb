{
 "cells": [
  {
   "cell_type": "markdown",
   "id": "6ce2abfb",
   "metadata": {},
   "source": [
    "### Methods: \n",
    "* Methods are functions that belong to the pandas object. \n",
    "* They perform actions or operations on the object and often modify it or return a new object based on the operation. \n",
    "* Methods are also accessed using dot notation but require parentheses, often with additional arguments."
   ]
  },
  {
   "cell_type": "code",
   "execution_count": 1,
   "id": "c15b07fd",
   "metadata": {},
   "outputs": [],
   "source": [
    "import pandas as pd"
   ]
  },
  {
   "cell_type": "code",
   "execution_count": 2,
   "id": "cbb4af6a",
   "metadata": {},
   "outputs": [
    {
     "data": {
      "text/plain": [
       "0    1.2\n",
       "1    1.3\n",
       "2    1.4\n",
       "3    NaN\n",
       "4    0.5\n",
       "5    0.7\n",
       "dtype: float64"
      ]
     },
     "execution_count": 2,
     "metadata": {},
     "output_type": "execute_result"
    }
   ],
   "source": [
    "values = pd.Series(data=[1.2,1.3,1.4,None,0.5,.7])\n",
    "values"
   ]
  },
  {
   "cell_type": "code",
   "execution_count": 4,
   "id": "d3f77f9f",
   "metadata": {},
   "outputs": [
    {
     "name": "stdout",
     "output_type": "stream",
     "text": [
      "Maximum value from above Series is:  1.4\n",
      "Minimum value from above Series is:  0.5\n"
     ]
    }
   ],
   "source": [
    "# Get max or min values from series\n",
    "print(\"Maximum value from above Series is: \", values.max())\n",
    "print(\"Minimum value from above Series is: \",values.min())"
   ]
  },
  {
   "cell_type": "code",
   "execution_count": 5,
   "id": "c0a8d8aa",
   "metadata": {},
   "outputs": [
    {
     "data": {
      "text/plain": [
       "5.1000000000000005"
      ]
     },
     "execution_count": 5,
     "metadata": {},
     "output_type": "execute_result"
    }
   ],
   "source": [
    "# we can add them all\n",
    "values.sum()"
   ]
  },
  {
   "cell_type": "code",
   "execution_count": 6,
   "id": "385ed963",
   "metadata": {},
   "outputs": [
    {
     "data": {
      "text/plain": [
       "1.02"
      ]
     },
     "execution_count": 6,
     "metadata": {},
     "output_type": "execute_result"
    }
   ],
   "source": [
    "# let get the average of all values\n",
    "values.mean()"
   ]
  },
  {
   "cell_type": "code",
   "execution_count": 8,
   "id": "a79950d1",
   "metadata": {},
   "outputs": [
    {
     "name": "stdout",
     "output_type": "stream",
     "text": [
      "2\n",
      "4\n"
     ]
    }
   ],
   "source": [
    "# to get index of man and min values in series\n",
    "print(values.idxmax())\n",
    "print(values.idxmin())"
   ]
  },
  {
   "cell_type": "code",
   "execution_count": 10,
   "id": "ff6222c7",
   "metadata": {},
   "outputs": [
    {
     "data": {
      "text/plain": [
       "0    False\n",
       "1    False\n",
       "2    False\n",
       "3     True\n",
       "4    False\n",
       "5    False\n",
       "dtype: bool"
      ]
     },
     "execution_count": 10,
     "metadata": {},
     "output_type": "execute_result"
    }
   ],
   "source": [
    "#  if you want to check each value in the series is null or not\n",
    "# .isnull()\n",
    "# This method returns boolean.\n",
    "values.isnull()"
   ]
  },
  {
   "cell_type": "code",
   "execution_count": 11,
   "id": "faa39e32",
   "metadata": {},
   "outputs": [
    {
     "data": {
      "text/plain": [
       "0    1.0\n",
       "1    1.0\n",
       "2    1.0\n",
       "3    NaN\n",
       "4    0.0\n",
       "5    1.0\n",
       "dtype: float64"
      ]
     },
     "execution_count": 11,
     "metadata": {},
     "output_type": "execute_result"
    }
   ],
   "source": [
    "# we can round the decimals\n",
    "values.round() # if we want round it to 2 decimal place then we can do: values.round(2)"
   ]
  },
  {
   "cell_type": "code",
   "execution_count": null,
   "id": "d3cbc35b",
   "metadata": {},
   "outputs": [],
   "source": []
  }
 ],
 "metadata": {
  "kernelspec": {
   "display_name": "Python 3",
   "language": "python",
   "name": "python3"
  },
  "language_info": {
   "codemirror_mode": {
    "name": "ipython",
    "version": 3
   },
   "file_extension": ".py",
   "mimetype": "text/x-python",
   "name": "python",
   "nbconvert_exporter": "python",
   "pygments_lexer": "ipython3",
   "version": "3.8.8"
  }
 },
 "nbformat": 4,
 "nbformat_minor": 5
}
