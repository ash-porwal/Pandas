{
 "cells": [
  {
   "cell_type": "markdown",
   "id": "e39e602d",
   "metadata": {},
   "source": [
    "### Want to find free Dataset?\n",
    "* Go to https://www.kaggle.com/datasets and download for free."
   ]
  },
  {
   "cell_type": "code",
   "execution_count": 1,
   "id": "fb52cad4",
   "metadata": {},
   "outputs": [],
   "source": [
    "import pandas as pd"
   ]
  },
  {
   "cell_type": "code",
   "execution_count": 21,
   "id": "729bd4fe",
   "metadata": {},
   "outputs": [
    {
     "name": "stdout",
     "output_type": "stream",
     "text": [
      "Columns insdie DataFrame: \n",
      " Index(['Name', 'NetWorth', 'Age', 'Country/Territory', 'Source', 'Industry'], dtype='object')\n",
      "\n",
      "0                     Elon Musk\n",
      "1                    Jeff Bezos\n",
      "2      Bernard Arnault & family\n",
      "3                    Bill Gates\n",
      "4                Warren Buffett\n",
      "                 ...           \n",
      "96             Vladimir Potanin\n",
      "97         Harold Hamm & family\n",
      "98                 Sun Piaoyang\n",
      "99           Luo Liguo & family\n",
      "100                   Peter Woo\n",
      "Name: Name, Length: 101, dtype: object\n",
      "\n",
      "<class 'pandas.core.series.Series'>\n"
     ]
    }
   ],
   "source": [
    "# Reading csv and squeeze the column into Series\n",
    "# Now to do it, we have two ways\n",
    "# First I am gonna try what my mind says - \n",
    "richest_df = pd.read_csv(\"TopRichestInWorld.csv\")\n",
    "\n",
    "# Now I will check the columns in this dataframe\n",
    "print(\"Columns insdie DataFrame: \\n\",richest_df.columns)\n",
    "print()\n",
    "# Now I will pick random column\n",
    "print(richest_df['Name'])\n",
    "print()\n",
    "# Now lets check if it is a Series or a DataFrame\n",
    "print(type(richest_df['Name'])) # It is a Series"
   ]
  },
  {
   "cell_type": "code",
   "execution_count": 23,
   "id": "e5368e9a",
   "metadata": {},
   "outputs": [
    {
     "name": "stdout",
     "output_type": "stream",
     "text": [
      "<class 'pandas.core.series.Series'>\n",
      "\n",
      "Selecting column without calling squeeze will still be a Dataframe\n"
     ]
    },
    {
     "data": {
      "text/plain": [
       "pandas.core.frame.DataFrame"
      ]
     },
     "execution_count": 23,
     "metadata": {},
     "output_type": "execute_result"
    }
   ],
   "source": [
    "# Now there is better way to make Series\n",
    "# after knowing columns, just select that column and then squeeze it\n",
    "richest_df = pd.read_csv(\"TopRichestInWorld.csv\", usecols=['Name']).squeeze()\n",
    "print(type(richest_df))\n",
    "print()\n",
    "print(\"Selecting column without calling squeeze will still be a Dataframe\")\n",
    "# if you don't call squeeze() method then it is still a DataFrame\n",
    "# we can even check\n",
    "richest_df = pd.read_csv(\"TopRichestInWorld.csv\", usecols=['Name'])\n",
    "type(richest_df)"
   ]
  },
  {
   "cell_type": "code",
   "execution_count": 27,
   "id": "d8c327e2",
   "metadata": {},
   "outputs": [],
   "source": [
    "# Now we can save our DataFrame or Series into a new csv file\n",
    "richest_df.to_csv(\"test.csv\", index=False) # we are setting index False othewise index will refect in the CSV file.\n",
    "# So, if we want to avoid index in our CSV file then we can set it False."
   ]
  }
 ],
 "metadata": {
  "kernelspec": {
   "display_name": "Python 3",
   "language": "python",
   "name": "python3"
  },
  "language_info": {
   "codemirror_mode": {
    "name": "ipython",
    "version": 3
   },
   "file_extension": ".py",
   "mimetype": "text/x-python",
   "name": "python",
   "nbconvert_exporter": "python",
   "pygments_lexer": "ipython3",
   "version": "3.8.8"
  }
 },
 "nbformat": 4,
 "nbformat_minor": 5
}
