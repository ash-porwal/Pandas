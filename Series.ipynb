{
 "cells": [
  {
   "cell_type": "markdown",
   "id": "176045e4",
   "metadata": {},
   "source": [
    "## Series: \n",
    "* Series are 1D array which can hold any datatypes.\n",
    "* The axis labels are known as index"
   ]
  },
  {
   "cell_type": "code",
   "execution_count": 1,
   "id": "4f6e3487",
   "metadata": {},
   "outputs": [],
   "source": [
    "import pandas as pd"
   ]
  },
  {
   "cell_type": "code",
   "execution_count": 2,
   "id": "926c77a2",
   "metadata": {},
   "outputs": [
    {
     "data": {
      "text/plain": [
       "0    23\n",
       "1    44\n",
       "2    62\n",
       "3    87\n",
       "4    12\n",
       "dtype: int64"
      ]
     },
     "execution_count": 2,
     "metadata": {},
     "output_type": "execute_result"
    }
   ],
   "source": [
    "# Lets create Series from a list\n",
    "num = [23,44,62,87,12]\n",
    "\n",
    "# to create above list into Series\n",
    "# we can use Series class construcutor\n",
    "pd.Series(num)"
   ]
  },
  {
   "cell_type": "code",
   "execution_count": 3,
   "id": "fc544db9",
   "metadata": {},
   "outputs": [
    {
     "data": {
      "text/plain": [
       "11    ash\n",
       "22    sne\n",
       "33     ss\n",
       "dtype: object"
      ]
     },
     "execution_count": 3,
     "metadata": {},
     "output_type": "execute_result"
    }
   ],
   "source": [
    "# We can even set the indexes by ourself\n",
    "# indexes can be string as well\n",
    "# just keep in mind indexes and lenght of data should match otherwise we will get value error. lenght doesn't match\n",
    "custom_index = [11,22,33]\n",
    "names = ['ash', 'sne', 'ss']\n",
    "pd.Series(data=names, index=custom_index)"
   ]
  },
  {
   "cell_type": "code",
   "execution_count": 5,
   "id": "2b29e1fc",
   "metadata": {},
   "outputs": [
    {
     "data": {
      "text/plain": [
       "name    Ashish\n",
       "age         26\n",
       "dtype: object"
      ]
     },
     "execution_count": 5,
     "metadata": {},
     "output_type": "execute_result"
    }
   ],
   "source": [
    "# if we convert dictionary into Series then Keys will automaticall convert into indexes\n",
    "sample_dict = {\n",
    "    \"name\": \"Ashish\",\n",
    "    \"age\": 26\n",
    "}\n",
    "pd.Series(sample_dict)"
   ]
  },
  {
   "cell_type": "code",
   "execution_count": 12,
   "id": "c6b4811b",
   "metadata": {},
   "outputs": [
    {
     "data": {
      "text/plain": [
       "n    NaN\n",
       "a    NaN\n",
       "dtype: object"
      ]
     },
     "execution_count": 12,
     "metadata": {},
     "output_type": "execute_result"
    }
   ],
   "source": [
    "# if we want to print some keys/indexes in the Series\n",
    "# then we can specify as index\n",
    "# but if our dictionary doesn't have that key then it will give us NaN\n",
    "# In below example our dict doesn't have 'n' and 'a' keys so it will give NaN value in them.\n",
    "pd.Series(data=sample_dict, index=['n', 'a'])"
   ]
  }
 ],
 "metadata": {
  "kernelspec": {
   "display_name": "Python 3",
   "language": "python",
   "name": "python3"
  },
  "language_info": {
   "codemirror_mode": {
    "name": "ipython",
    "version": 3
   },
   "file_extension": ".py",
   "mimetype": "text/x-python",
   "name": "python",
   "nbconvert_exporter": "python",
   "pygments_lexer": "ipython3",
   "version": "3.8.8"
  }
 },
 "nbformat": 4,
 "nbformat_minor": 5
}
