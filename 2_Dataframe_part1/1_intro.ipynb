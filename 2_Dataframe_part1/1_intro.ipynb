{
 "cells": [
  {
   "cell_type": "markdown",
   "id": "460a07c9",
   "metadata": {},
   "source": [
    "### Dataframes\n",
    "* Dataframe are 2D data structure with columns.\n",
    "* These columns may contains a different types of Dataframe.\n",
    "* Think a dataframe just like a spread sheet\n",
    "* axis = 0 - refers to the index\n",
    "* axis = 1 - refers to the columns"
   ]
  },
  {
   "cell_type": "code",
   "execution_count": 1,
   "id": "2b88c361",
   "metadata": {},
   "outputs": [],
   "source": [
    "import pandas as pd"
   ]
  },
  {
   "cell_type": "code",
   "execution_count": 8,
   "id": "5e836090",
   "metadata": {},
   "outputs": [
    {
     "data": {
      "text/html": [
       "<div>\n",
       "<style scoped>\n",
       "    .dataframe tbody tr th:only-of-type {\n",
       "        vertical-align: middle;\n",
       "    }\n",
       "\n",
       "    .dataframe tbody tr th {\n",
       "        vertical-align: top;\n",
       "    }\n",
       "\n",
       "    .dataframe thead th {\n",
       "        text-align: right;\n",
       "    }\n",
       "</style>\n",
       "<table border=\"1\" class=\"dataframe\">\n",
       "  <thead>\n",
       "    <tr style=\"text-align: right;\">\n",
       "      <th></th>\n",
       "      <th>car</th>\n",
       "      <th>sold</th>\n",
       "    </tr>\n",
       "  </thead>\n",
       "  <tbody>\n",
       "    <tr>\n",
       "      <th>0</th>\n",
       "      <td>audi</td>\n",
       "      <td>5</td>\n",
       "    </tr>\n",
       "    <tr>\n",
       "      <th>1</th>\n",
       "      <td>ferrari</td>\n",
       "      <td>3</td>\n",
       "    </tr>\n",
       "    <tr>\n",
       "      <th>2</th>\n",
       "      <td>lambo</td>\n",
       "      <td>1</td>\n",
       "    </tr>\n",
       "  </tbody>\n",
       "</table>\n",
       "</div>"
      ],
      "text/plain": [
       "       car  sold\n",
       "0     audi     5\n",
       "1  ferrari     3\n",
       "2    lambo     1"
      ]
     },
     "execution_count": 8,
     "metadata": {},
     "output_type": "execute_result"
    }
   ],
   "source": [
    "# If you want to create a dictionary into dataframe\n",
    "sample_dict = {\n",
    "    'car' : [\"audi\", 'ferrari', 'lambo'],\n",
    "    'sold' : [5, 3, 1]\n",
    "        }\n",
    "# so values of dic must have a list of values then only it will create a DF.\n",
    "pd.DataFrame(sample_dict) "
   ]
  },
  {
   "cell_type": "code",
   "execution_count": 2,
   "id": "c0b7910f",
   "metadata": {},
   "outputs": [
    {
     "data": {
      "text/plain": [
       "{'Name': 'Ashish Porwal', 'Age': 26, 'Occupation': 'ETL developer'}"
      ]
     },
     "execution_count": 2,
     "metadata": {},
     "output_type": "execute_result"
    }
   ],
   "source": [
    "# If it doesn't have a list of values then?\n",
    "# then we need to define that dictionary as a list in that dataframe\n",
    "some_dict = {\n",
    "    \"Name\": \"Ashish Porwal\",\n",
    "    \"Age\": 26,\n",
    "    \"Occupation\": \"ETL developer\"\n",
    "}\n",
    "some_dict"
   ]
  },
  {
   "cell_type": "code",
   "execution_count": 10,
   "id": "90d101c4",
   "metadata": {},
   "outputs": [
    {
     "data": {
      "text/html": [
       "<div>\n",
       "<style scoped>\n",
       "    .dataframe tbody tr th:only-of-type {\n",
       "        vertical-align: middle;\n",
       "    }\n",
       "\n",
       "    .dataframe tbody tr th {\n",
       "        vertical-align: top;\n",
       "    }\n",
       "\n",
       "    .dataframe thead th {\n",
       "        text-align: right;\n",
       "    }\n",
       "</style>\n",
       "<table border=\"1\" class=\"dataframe\">\n",
       "  <thead>\n",
       "    <tr style=\"text-align: right;\">\n",
       "      <th></th>\n",
       "      <th>Name</th>\n",
       "      <th>Age</th>\n",
       "      <th>Occupation</th>\n",
       "    </tr>\n",
       "  </thead>\n",
       "  <tbody>\n",
       "    <tr>\n",
       "      <th>0</th>\n",
       "      <td>Ashish Porwal</td>\n",
       "      <td>26</td>\n",
       "      <td>ETL developer</td>\n",
       "    </tr>\n",
       "  </tbody>\n",
       "</table>\n",
       "</div>"
      ],
      "text/plain": [
       "            Name  Age     Occupation\n",
       "0  Ashish Porwal   26  ETL developer"
      ]
     },
     "execution_count": 10,
     "metadata": {},
     "output_type": "execute_result"
    }
   ],
   "source": [
    "# converting above dict into a dataframe.\n",
    "# Note: above dictionary isn't a list of value\n",
    "other_df = pd.DataFrame([some_dict])\n",
    "other_df"
   ]
  },
  {
   "cell_type": "code",
   "execution_count": 19,
   "id": "2a37dde5",
   "metadata": {},
   "outputs": [
    {
     "name": "stdout",
     "output_type": "stream",
     "text": [
      "0    26\n",
      "Name: Age, dtype: int64\n"
     ]
    },
    {
     "data": {
      "text/plain": [
       "0    26\n",
       "Name: Age, dtype: int64"
      ]
     },
     "execution_count": 19,
     "metadata": {},
     "output_type": "execute_result"
    }
   ],
   "source": [
    "# lets try to get the Series using a column name\n",
    "print(other_df['Age'])\n",
    "\n",
    "# Or we can directly access that column with dot notation\n",
    "other_df.Age # but in this way if some column name matched with pandas method name then it is going to prioritize it."
   ]
  },
  {
   "cell_type": "code",
   "execution_count": 17,
   "id": "12e30be5",
   "metadata": {},
   "outputs": [
    {
     "data": {
      "text/html": [
       "<div>\n",
       "<style scoped>\n",
       "    .dataframe tbody tr th:only-of-type {\n",
       "        vertical-align: middle;\n",
       "    }\n",
       "\n",
       "    .dataframe tbody tr th {\n",
       "        vertical-align: top;\n",
       "    }\n",
       "\n",
       "    .dataframe thead th {\n",
       "        text-align: right;\n",
       "    }\n",
       "</style>\n",
       "<table border=\"1\" class=\"dataframe\">\n",
       "  <thead>\n",
       "    <tr style=\"text-align: right;\">\n",
       "      <th></th>\n",
       "      <th>Column1</th>\n",
       "      <th>Column2</th>\n",
       "      <th>Column3</th>\n",
       "    </tr>\n",
       "  </thead>\n",
       "  <tbody>\n",
       "    <tr>\n",
       "      <th>First_list</th>\n",
       "      <td>11</td>\n",
       "      <td>22</td>\n",
       "      <td>33</td>\n",
       "    </tr>\n",
       "    <tr>\n",
       "      <th>Second_list</th>\n",
       "      <td>123</td>\n",
       "      <td>456</td>\n",
       "      <td>798</td>\n",
       "    </tr>\n",
       "  </tbody>\n",
       "</table>\n",
       "</div>"
      ],
      "text/plain": [
       "             Column1  Column2  Column3\n",
       "First_list        11       22       33\n",
       "Second_list      123      456      798"
      ]
     },
     "execution_count": 17,
     "metadata": {},
     "output_type": "execute_result"
    }
   ],
   "source": [
    "# While making a Dataframe we can even set indexes, columns\n",
    "df = pd.DataFrame(data=[[11,22,33], [123,456,798]],\n",
    "                 index=['First_list', 'Second_list'],\n",
    "                 columns=[\"Column1\", \"Column2\", \"Column3\"]) # column should be equal to the length of a list in data\n",
    "df"
   ]
  },
  {
   "cell_type": "code",
   "execution_count": 22,
   "id": "ea2a926e",
   "metadata": {},
   "outputs": [
    {
     "data": {
      "text/html": [
       "<div>\n",
       "<style scoped>\n",
       "    .dataframe tbody tr th:only-of-type {\n",
       "        vertical-align: middle;\n",
       "    }\n",
       "\n",
       "    .dataframe tbody tr th {\n",
       "        vertical-align: top;\n",
       "    }\n",
       "\n",
       "    .dataframe thead th {\n",
       "        text-align: right;\n",
       "    }\n",
       "</style>\n",
       "<table border=\"1\" class=\"dataframe\">\n",
       "  <thead>\n",
       "    <tr style=\"text-align: right;\">\n",
       "      <th></th>\n",
       "      <th>Name</th>\n",
       "      <th>NetWorth</th>\n",
       "      <th>Age</th>\n",
       "      <th>Country/Territory</th>\n",
       "      <th>Source</th>\n",
       "      <th>Industry</th>\n",
       "    </tr>\n",
       "  </thead>\n",
       "  <tbody>\n",
       "    <tr>\n",
       "      <th>0</th>\n",
       "      <td>Elon Musk</td>\n",
       "      <td>$219,000,000,000</td>\n",
       "      <td>50</td>\n",
       "      <td>United States</td>\n",
       "      <td>Tesla, SpaceX</td>\n",
       "      <td>Automotive</td>\n",
       "    </tr>\n",
       "    <tr>\n",
       "      <th>1</th>\n",
       "      <td>Jeff Bezos</td>\n",
       "      <td>$171,000,000,000</td>\n",
       "      <td>58</td>\n",
       "      <td>United States</td>\n",
       "      <td>Amazon</td>\n",
       "      <td>Technology</td>\n",
       "    </tr>\n",
       "    <tr>\n",
       "      <th>2</th>\n",
       "      <td>Bernard Arnault &amp; family</td>\n",
       "      <td>$158,000,000,000</td>\n",
       "      <td>73</td>\n",
       "      <td>France</td>\n",
       "      <td>LVMH</td>\n",
       "      <td>Fashion &amp; Retail</td>\n",
       "    </tr>\n",
       "    <tr>\n",
       "      <th>3</th>\n",
       "      <td>Bill Gates</td>\n",
       "      <td>$129,000,000,000</td>\n",
       "      <td>66</td>\n",
       "      <td>United States</td>\n",
       "      <td>Microsoft</td>\n",
       "      <td>Technology</td>\n",
       "    </tr>\n",
       "    <tr>\n",
       "      <th>4</th>\n",
       "      <td>Warren Buffett</td>\n",
       "      <td>$118,000,000,000</td>\n",
       "      <td>91</td>\n",
       "      <td>United States</td>\n",
       "      <td>Berkshire Hathaway</td>\n",
       "      <td>Finance &amp; Investments</td>\n",
       "    </tr>\n",
       "    <tr>\n",
       "      <th>...</th>\n",
       "      <td>...</td>\n",
       "      <td>...</td>\n",
       "      <td>...</td>\n",
       "      <td>...</td>\n",
       "      <td>...</td>\n",
       "      <td>...</td>\n",
       "    </tr>\n",
       "    <tr>\n",
       "      <th>96</th>\n",
       "      <td>Vladimir Potanin</td>\n",
       "      <td>$17,300,000,000</td>\n",
       "      <td>61</td>\n",
       "      <td>Russia</td>\n",
       "      <td>metals</td>\n",
       "      <td>Metals &amp; Mining</td>\n",
       "    </tr>\n",
       "    <tr>\n",
       "      <th>97</th>\n",
       "      <td>Harold Hamm &amp; family</td>\n",
       "      <td>$17,200,000,000</td>\n",
       "      <td>76</td>\n",
       "      <td>United States</td>\n",
       "      <td>oil &amp; gas</td>\n",
       "      <td>Energy</td>\n",
       "    </tr>\n",
       "    <tr>\n",
       "      <th>98</th>\n",
       "      <td>Sun Piaoyang</td>\n",
       "      <td>$17,100,000,000</td>\n",
       "      <td>63</td>\n",
       "      <td>China</td>\n",
       "      <td>pharmaceuticals</td>\n",
       "      <td>Healthcare</td>\n",
       "    </tr>\n",
       "    <tr>\n",
       "      <th>99</th>\n",
       "      <td>Luo Liguo &amp; family</td>\n",
       "      <td>$17,000,000,000</td>\n",
       "      <td>66</td>\n",
       "      <td>China</td>\n",
       "      <td>chemicals</td>\n",
       "      <td>Manufacturing</td>\n",
       "    </tr>\n",
       "    <tr>\n",
       "      <th>100</th>\n",
       "      <td>Peter Woo</td>\n",
       "      <td>$17,000,000,000</td>\n",
       "      <td>75</td>\n",
       "      <td>Hong Kong</td>\n",
       "      <td>real estate</td>\n",
       "      <td>Real Estate</td>\n",
       "    </tr>\n",
       "  </tbody>\n",
       "</table>\n",
       "<p>101 rows × 6 columns</p>\n",
       "</div>"
      ],
      "text/plain": [
       "                         Name          NetWorth  Age Country/Territory  \\\n",
       "0                   Elon Musk  $219,000,000,000   50     United States   \n",
       "1                  Jeff Bezos  $171,000,000,000   58     United States   \n",
       "2    Bernard Arnault & family  $158,000,000,000   73            France   \n",
       "3                  Bill Gates  $129,000,000,000   66     United States   \n",
       "4              Warren Buffett  $118,000,000,000   91     United States   \n",
       "..                        ...               ...  ...               ...   \n",
       "96           Vladimir Potanin   $17,300,000,000   61            Russia   \n",
       "97       Harold Hamm & family   $17,200,000,000   76     United States   \n",
       "98               Sun Piaoyang   $17,100,000,000   63             China   \n",
       "99         Luo Liguo & family   $17,000,000,000   66             China   \n",
       "100                 Peter Woo   $17,000,000,000   75         Hong Kong   \n",
       "\n",
       "                 Source               Industry  \n",
       "0         Tesla, SpaceX             Automotive  \n",
       "1                Amazon             Technology  \n",
       "2                  LVMH       Fashion & Retail  \n",
       "3             Microsoft             Technology  \n",
       "4    Berkshire Hathaway  Finance & Investments  \n",
       "..                  ...                    ...  \n",
       "96               metals        Metals & Mining  \n",
       "97            oil & gas                 Energy  \n",
       "98      pharmaceuticals             Healthcare  \n",
       "99            chemicals          Manufacturing  \n",
       "100         real estate            Real Estate  \n",
       "\n",
       "[101 rows x 6 columns]"
      ]
     },
     "execution_count": 22,
     "metadata": {},
     "output_type": "execute_result"
    }
   ],
   "source": [
    "# lets read Toprichest csv file\n",
    "df = pd.read_csv(\"../1_Series/TopRichestInWorld.csv\")\n",
    "df"
   ]
  },
  {
   "cell_type": "code",
   "execution_count": 23,
   "id": "28673554",
   "metadata": {},
   "outputs": [
    {
     "data": {
      "text/plain": [
       "(101, 6)"
      ]
     },
     "execution_count": 23,
     "metadata": {},
     "output_type": "execute_result"
    }
   ],
   "source": [
    "# If we just want to know how many rows and columns are there\n",
    "df.shape # returns (rows, column)"
   ]
  },
  {
   "cell_type": "code",
   "execution_count": 26,
   "id": "a29ebbec",
   "metadata": {},
   "outputs": [
    {
     "data": {
      "text/plain": [
       "606"
      ]
     },
     "execution_count": 26,
     "metadata": {},
     "output_type": "execute_result"
    }
   ],
   "source": [
    "df.size # This returns total elements in our dataframe,\n",
    "# Above returned 606 because in our dataframe we have 101 rows and 6 columns\n",
    "# so total elements will be 101*6 = 606.\n",
    "# And yes it count NaN values too."
   ]
  },
  {
   "cell_type": "code",
   "execution_count": 27,
   "id": "6afdc451",
   "metadata": {},
   "outputs": [
    {
     "data": {
      "text/plain": [
       "RangeIndex(start=0, stop=101, step=1)"
      ]
     },
     "execution_count": 27,
     "metadata": {},
     "output_type": "execute_result"
    }
   ],
   "source": [
    "# To know the index range\n",
    "df.index"
   ]
  },
  {
   "cell_type": "code",
   "execution_count": 28,
   "id": "638ae1f6",
   "metadata": {},
   "outputs": [
    {
     "data": {
      "text/plain": [
       "Index(['Name', 'NetWorth', 'Age', 'Country/Territory', 'Source', 'Industry'], dtype='object')"
      ]
     },
     "execution_count": 28,
     "metadata": {},
     "output_type": "execute_result"
    }
   ],
   "source": [
    "# To know what are the columns available in a dataframe\n",
    "df.columns"
   ]
  },
  {
   "cell_type": "code",
   "execution_count": 32,
   "id": "6319062b",
   "metadata": {},
   "outputs": [
    {
     "data": {
      "text/plain": [
       "[RangeIndex(start=0, stop=101, step=1),\n",
       " Index(['Name', 'NetWorth', 'Age', 'Country/Territory', 'Source', 'Industry'], dtype='object')]"
      ]
     },
     "execution_count": 32,
     "metadata": {},
     "output_type": "execute_result"
    }
   ],
   "source": [
    "df.axes # This returns a list of info about both indexes and column"
   ]
  },
  {
   "cell_type": "code",
   "execution_count": 34,
   "id": "0678edbd",
   "metadata": {},
   "outputs": [
    {
     "data": {
      "text/plain": [
       "Name                 object\n",
       "NetWorth             object\n",
       "Age                   int64\n",
       "Country/Territory    object\n",
       "Source               object\n",
       "Industry             object\n",
       "dtype: object"
      ]
     },
     "execution_count": 34,
     "metadata": {},
     "output_type": "execute_result"
    }
   ],
   "source": [
    "df.dtypes # if you want to know what datatype each column got"
   ]
  },
  {
   "cell_type": "code",
   "execution_count": 39,
   "id": "64c36fcc",
   "metadata": {},
   "outputs": [
    {
     "data": {
      "text/plain": [
       "array([['Elon Musk', '$219,000,000,000', 50, 'United States',\n",
       "        'Tesla, SpaceX', 'Automotive'],\n",
       "       ['Jeff Bezos', '$171,000,000,000', 58, 'United States', 'Amazon',\n",
       "        'Technology'],\n",
       "       ['Bernard Arnault & family', '$158,000,000,000', 73, 'France',\n",
       "        'LVMH', 'Fashion & Retail'],\n",
       "       ['Bill Gates', '$129,000,000,000', 66, 'United States',\n",
       "        'Microsoft', 'Technology'],\n",
       "       ['Warren Buffett', '$118,000,000,000', 91, 'United States',\n",
       "        'Berkshire Hathaway', 'Finance & Investments'],\n",
       "       ['Larry Page', '$111,000,000,000', 49, 'United States', 'Google',\n",
       "        'Technology'],\n",
       "       ['Sergey Brin', '$107,000,000,000', 48, 'United States', 'Google',\n",
       "        'Technology'],\n",
       "       ['Larry Ellison', '$106,000,000,000', 77, 'United States',\n",
       "        'software', 'Technology'],\n",
       "       ['Steve Ballmer', '$91,400,000,000', 66, 'United States',\n",
       "        'Microsoft', 'Technology'],\n",
       "       ['Mukesh Ambani', '$90,700,000,000', 64, 'India', 'diversified',\n",
       "        'Diversified'],\n",
       "       ['Gautam Adani & family', '$90,000,000,000', 59, 'India',\n",
       "        'infrastructure, commodities', 'Diversified'],\n",
       "       ['Michael Bloomberg', '$82,000,000,000', 80, 'United States',\n",
       "        'Bloomberg LP', 'Media & Entertainment'],\n",
       "       ['Carlos Slim Helu & family', '$81,200,000,000', 82, 'Mexico',\n",
       "        'telecom', 'Telecom'],\n",
       "       ['Francoise Bettencourt Meyers & family', '$74,800,000,000', 68,\n",
       "        'France', \"L'Oréal\", 'Fashion & Retail'],\n",
       "       ['Mark Zuckerberg', '$67,300,000,000', 37, 'United States',\n",
       "        'Facebook', 'Technology'],\n",
       "       ['Jim Walton', '$66,200,000,000', 73, 'United States', 'Walmart',\n",
       "        'Fashion & Retail'],\n",
       "       ['Zhong Shanshan', '$65,700,000,000', 67, 'China',\n",
       "        'beverages, pharmaceuticals', 'Food & Beverage'],\n",
       "       ['Alice Walton', '$65,300,000,000', 72, 'United States',\n",
       "        'Walmart', 'Fashion & Retail'],\n",
       "       ['Rob Walton', '$65,000,000,000', 77, 'United States', 'Walmart',\n",
       "        'Fashion & Retail'],\n",
       "       ['Changpeng Zhao', '$65,000,000,000', 44, 'Canada',\n",
       "        'cryptocurrency exchange', 'Finance & Investments'],\n",
       "       ['Charles Koch', '$60,000,000,000', 86, 'United States',\n",
       "        'Koch Industries', 'Diversified'],\n",
       "       ['Julia Koch & family', '$60,000,000,000', 59, 'United States',\n",
       "        'Koch Industries', 'Diversified'],\n",
       "       ['Amancio Ortega', '$59,600,000,000', 86, 'Spain', 'Zara',\n",
       "        'Fashion & Retail'],\n",
       "       ['Michael Dell', '$55,100,000,000', 57, 'United States',\n",
       "        'Dell computers', 'Technology'],\n",
       "       ['Zhang Yiming', '$50,000,000,000', 38, 'China', 'TikTok',\n",
       "        'Media & Entertainment'],\n",
       "       ['David Thomson & family', '$49,200,000,000', 64, 'Canada',\n",
       "        'media', 'Media & Entertainment'],\n",
       "       ['Phil Knight & family', '$47,300,000,000', 84, 'United States',\n",
       "        'Nike', 'Fashion & Retail'],\n",
       "       ['Dieter Schwarz', '$47,100,000,000', 82, 'Germany', 'retail',\n",
       "        'Fashion & Retail'],\n",
       "       ['Robin Zeng', '$44,800,000,000', 53, 'Hong Kong', 'batteries',\n",
       "        'Automotive'],\n",
       "       ['MacKenzie Scott', '$43,600,000,000', 51, 'United States',\n",
       "        'Amazon', 'Technology'],\n",
       "       ['Rodolphe Saadé & family', '$41,400,000,000', 52, 'France',\n",
       "        'shipping', 'Logistics'],\n",
       "       ['François Pinault & family', '$40,400,000,000', 85, 'France',\n",
       "        'luxury goods', 'Fashion & Retail'],\n",
       "       ['Klaus-Michael Kuehne', '$37,300,000,000', 84, 'Germany',\n",
       "        'shipping', 'Logistics'],\n",
       "       ['Ma Huateng', '$37,200,000,000', 50, 'China', 'internet media',\n",
       "        'Technology'],\n",
       "       ['Beate Heister & Karl Albrecht Jr. & family', '$36,800,000,000',\n",
       "        50, 'Germany', 'supermarkets', 'Fashion & Retail'],\n",
       "       ['Giovanni Ferrero', '$36,200,000,000', 57, 'Italy',\n",
       "        'Nutella, chocolates', 'Food & Beverage'],\n",
       "       ['Li Ka-shing', '$34,800,000,000', 93, 'Hong Kong', 'diversified',\n",
       "        'Diversified'],\n",
       "       ['Stephen Schwarzman', '$34,800,000,000', 75, 'United States',\n",
       "        'investments', 'Finance & Investments'],\n",
       "       ['Lee Shau Kee', '$32,600,000,000', 94, 'Hong Kong',\n",
       "        'real estate', 'Real Estate'],\n",
       "       ['Len Blavatnik', '$32,500,000,000', 64, 'United States',\n",
       "        'music, chemicals', 'Diversified'],\n",
       "       ['Jacqueline Mars', '$31,700,000,000', 82, 'United States',\n",
       "        'candy, pet food', 'Food & Beverage'],\n",
       "       ['John Mars', '$31,700,000,000', 86, 'United States',\n",
       "        'candy, pet food', 'Food & Beverage'],\n",
       "       ['Alain Wertheimer', '$31,200,000,000', 73, 'France', 'Chanel',\n",
       "        'Fashion & Retail'],\n",
       "       ['Gerard Wertheimer', '$31,200,000,000', 71, 'France', 'Chanel',\n",
       "        'Fashion & Retail'],\n",
       "       ['German Larrea Mota Velasco & family', '$30,800,000,000', 68,\n",
       "        'Mexico', 'mining', 'Metals & Mining'],\n",
       "       ['Gina Rinehart', '$30,200,000,000', 68, 'Australia', 'mining',\n",
       "        'Metals & Mining'],\n",
       "       ['Shiv Nadar', '$28,700,000,000', 76, 'India',\n",
       "        'software services', 'Technology'],\n",
       "       ['Jim Simons', '$28,600,000,000', 83, 'United States',\n",
       "        'hedge funds', 'Finance & Investments'],\n",
       "       ['He Xiangjian', '$28,300,000,000', 79, 'China',\n",
       "        'home appliances', 'Manufacturing'],\n",
       "       ['Miriam Adelson', '$27,500,000,000', 76, 'United States',\n",
       "        'casinos', 'Gambling & Casinos'],\n",
       "       ['Dietrich Mateschitz', '$27,400,000,000', 77, 'Austria',\n",
       "        'Red Bull', 'Food & Beverage'],\n",
       "       ['Leonardo Del Vecchio & family', '$27,300,000,000', 86, 'Italy',\n",
       "        'eyeglasses', 'Fashion & Retail'],\n",
       "       ['Ken Griffin', '$27,200,000,000', 53, 'United States',\n",
       "        'hedge funds', 'Finance & Investments'],\n",
       "       ['Tadashi Yanai & family', '$26,100,000,000', 73, 'Japan',\n",
       "        'fashion retail', 'Fashion & Retail'],\n",
       "       ['William Lei Ding', '$25,200,000,000', 50, 'China',\n",
       "        'online games', 'Technology'],\n",
       "       ['Susanne Klatten', '$24,300,000,000', 59, 'Germany',\n",
       "        'BMW, pharmaceuticals', 'Automotive'],\n",
       "       ['Cyrus Poonawalla', '$24,300,000,000', 80, 'India', 'vaccines',\n",
       "        'Healthcare'],\n",
       "       ['Wang Wei', '$24,300,000,000', 51, 'China', 'package delivery',\n",
       "        'Service'],\n",
       "       ['Qin Yinglin', '$24,100,000,000', 56, 'China', 'pig breeding',\n",
       "        'Food & Beverage'],\n",
       "       ['Sam Bankman-Fried', '$24,000,000,000', 30, 'United States',\n",
       "        'cryptocurrency exchange', 'Finance & Investments'],\n",
       "       ['Takemitsu Takizaki', '$23,900,000,000', 76, 'Japan', 'sensors',\n",
       "        'Manufacturing'],\n",
       "       ['Li Shufu', '$23,700,000,000', 58, 'China', 'automobiles',\n",
       "        'Automotive'],\n",
       "       ['Emmanuel Besnier', '$23,500,000,000', 51, 'France', 'cheese',\n",
       "        'Food & Beverage'],\n",
       "       ['R. Budi Hartono', '$23,200,000,000', 81, 'Indonesia',\n",
       "        'banking, tobacco', 'Finance & Investments'],\n",
       "       ['Leonard Lauder', '$23,100,000,000', 89, 'United States',\n",
       "        'Estee Lauder', 'Fashion & Retail'],\n",
       "       ['Guillaume Pousaz', '$23,000,000,000', 40, 'Switzerland',\n",
       "        'fintech', 'Finance & Investments'],\n",
       "       ['Iris Fontbona & family', '$22,800,000,000', 79, 'Chile',\n",
       "        'mining', 'Metals & Mining'],\n",
       "       ['Jack Ma', '$22,800,000,000', 57, 'China', 'e-commerce',\n",
       "        'Technology'],\n",
       "       ['Michael Hartono', '$22,300,000,000', 82, 'Indonesia',\n",
       "        'banking, tobacco', 'Manufacturing'],\n",
       "       ['Eric Schmidt', '$22,100,000,000', 66, 'United States', 'Google',\n",
       "        'Technology'],\n",
       "       ['Ray Dalio', '$22,000,000,000', 72, 'United States',\n",
       "        'hedge funds', 'Finance & Investments'],\n",
       "       ['Daniel Gilbert', '$22,000,000,000', 60, 'United States',\n",
       "        'Quicken Loans', 'Finance & Investments'],\n",
       "       ['Thomas Frist, Jr. & family', '$21,800,000,000', 83,\n",
       "        'United States', 'hospitals', 'Healthcare'],\n",
       "       ['Masayoshi Son', '$21,300,000,000', 64, 'Japan',\n",
       "        'internet, telecom', 'Telecom'],\n",
       "       ['Abigail Johnson', '$21,200,000,000', 60, 'United States',\n",
       "        'money management', 'Finance & Investments'],\n",
       "       ['Rupert Murdoch & family', '$20,800,000,000', 91,\n",
       "        'United States', 'newspapers, TV network',\n",
       "        'Media & Entertainment'],\n",
       "       ['Stefan Quandt', '$20,700,000,000', 55, 'Germany', 'BMW',\n",
       "        'Automotive'],\n",
       "       ['Jensen Huang', '$20,600,000,000', 59, 'United States',\n",
       "        'semiconductors', 'Technology'],\n",
       "       ['Huang Shilin', '$20,300,000,000', 55, 'China', 'batteries',\n",
       "        'Automotive'],\n",
       "       ['Thomas Peterffy', '$20,100,000,000', 77, 'United States',\n",
       "        'discount brokerage', 'Finance & Investments'],\n",
       "       ['Radhakishan Damani', '$20,000,000,000', 67, 'India',\n",
       "        'retail, investments', 'Fashion & Retail'],\n",
       "       ['Pang Kang', '$19,600,000,000', 66, 'China', 'soy sauce',\n",
       "        'Food & Beverage'],\n",
       "       ['Wang Chuanfu', '$19,500,000,000', 56, 'China',\n",
       "        'batteries, automobiles', 'Automotive'],\n",
       "       ['Reinhold Wuerth & family', '$19,000,000,000', 86, 'Germany',\n",
       "        'fasteners', 'Manufacturing'],\n",
       "       ['Theo Albrecht, Jr. & family', '$18,700,000,000', 71, 'Germany',\n",
       "        \"Aldi, Trader Joe's\", 'Fashion & Retail'],\n",
       "       ['Yang Huiyan & family', '$18,700,000,000', 40, 'China',\n",
       "        'real estate', 'Real Estate'],\n",
       "       ['Vladimir Lisin', '$18,400,000,000', 65, 'Russia',\n",
       "        'steel, transport', 'Metals & Mining'],\n",
       "       ['Fan Hongwei & family', '$18,200,000,000', 55, 'China',\n",
       "        'petrochemicals', 'Energy'],\n",
       "       ['Lakshmi Mittal', '$17,900,000,000', 71, 'India', 'steel',\n",
       "        'Metals & Mining'],\n",
       "       ['Andrew Forrest', '$17,800,000,000', 60, 'Australia', 'mining',\n",
       "        'Metals & Mining'],\n",
       "       ['Jiang Rensheng & family', '$17,700,000,000', 68, 'China',\n",
       "        'vaccines', 'Healthcare'],\n",
       "       ['Savitri Jindal & family', '$17,700,000,000', 72, 'India',\n",
       "        'steel', 'Metals & Mining'],\n",
       "       ['Wang Wenyin', '$17,700,000,000', 54, 'China',\n",
       "        'mining, copper products', 'Metals & Mining'],\n",
       "       ['Li Xiting', '$17,600,000,000', 71, 'Singapore',\n",
       "        'medical devices', 'Healthcare'],\n",
       "       ['Stefan Persson', '$17,600,000,000', 74, 'Sweden', 'H&M',\n",
       "        'Fashion & Retail'],\n",
       "       ['Steve Cohen', '$17,400,000,000', 65, 'United States',\n",
       "        'hedge funds', 'Finance & Investments'],\n",
       "       ['Vladimir Potanin', '$17,300,000,000', 61, 'Russia', 'metals',\n",
       "        'Metals & Mining'],\n",
       "       ['Harold Hamm & family', '$17,200,000,000', 76, 'United States',\n",
       "        'oil & gas', 'Energy'],\n",
       "       ['Sun Piaoyang', '$17,100,000,000', 63, 'China',\n",
       "        'pharmaceuticals', 'Healthcare'],\n",
       "       ['Luo Liguo & family', '$17,000,000,000', 66, 'China',\n",
       "        'chemicals', 'Manufacturing'],\n",
       "       ['Peter Woo', '$17,000,000,000', 75, 'Hong Kong', 'real estate',\n",
       "        'Real Estate']], dtype=object)"
      ]
     },
     "execution_count": 39,
     "metadata": {},
     "output_type": "execute_result"
    }
   ],
   "source": [
    "# to know all the value in our dataframe\n",
    "df.values # This returns a whole row in array"
   ]
  },
  {
   "cell_type": "code",
   "execution_count": 41,
   "id": "690577ee",
   "metadata": {},
   "outputs": [
    {
     "data": {
      "text/plain": [
       "[50,\n",
       " 58,\n",
       " 73,\n",
       " 66,\n",
       " 91,\n",
       " 49,\n",
       " 48,\n",
       " 77,\n",
       " 66,\n",
       " 64,\n",
       " 59,\n",
       " 80,\n",
       " 82,\n",
       " 68,\n",
       " 37,\n",
       " 73,\n",
       " 67,\n",
       " 72,\n",
       " 77,\n",
       " 44,\n",
       " 86,\n",
       " 59,\n",
       " 86,\n",
       " 57,\n",
       " 38,\n",
       " 64,\n",
       " 84,\n",
       " 82,\n",
       " 53,\n",
       " 51,\n",
       " 52,\n",
       " 85,\n",
       " 84,\n",
       " 50,\n",
       " 50,\n",
       " 57,\n",
       " 93,\n",
       " 75,\n",
       " 94,\n",
       " 64,\n",
       " 82,\n",
       " 86,\n",
       " 73,\n",
       " 71,\n",
       " 68,\n",
       " 68,\n",
       " 76,\n",
       " 83,\n",
       " 79,\n",
       " 76,\n",
       " 77,\n",
       " 86,\n",
       " 53,\n",
       " 73,\n",
       " 50,\n",
       " 59,\n",
       " 80,\n",
       " 51,\n",
       " 56,\n",
       " 30,\n",
       " 76,\n",
       " 58,\n",
       " 51,\n",
       " 81,\n",
       " 89,\n",
       " 40,\n",
       " 79,\n",
       " 57,\n",
       " 82,\n",
       " 66,\n",
       " 72,\n",
       " 60,\n",
       " 83,\n",
       " 64,\n",
       " 60,\n",
       " 91,\n",
       " 55,\n",
       " 59,\n",
       " 55,\n",
       " 77,\n",
       " 67,\n",
       " 66,\n",
       " 56,\n",
       " 86,\n",
       " 71,\n",
       " 40,\n",
       " 65,\n",
       " 55,\n",
       " 71,\n",
       " 60,\n",
       " 68,\n",
       " 72,\n",
       " 54,\n",
       " 71,\n",
       " 74,\n",
       " 65,\n",
       " 61,\n",
       " 76,\n",
       " 63,\n",
       " 66,\n",
       " 75]"
      ]
     },
     "execution_count": 41,
     "metadata": {},
     "output_type": "execute_result"
    }
   ],
   "source": [
    "list(df['Age'].values) # Suppose I wanted a list of all people age and save in a list"
   ]
  }
 ],
 "metadata": {
  "kernelspec": {
   "display_name": "Python 3",
   "language": "python",
   "name": "python3"
  },
  "language_info": {
   "codemirror_mode": {
    "name": "ipython",
    "version": 3
   },
   "file_extension": ".py",
   "mimetype": "text/x-python",
   "name": "python",
   "nbconvert_exporter": "python",
   "pygments_lexer": "ipython3",
   "version": "3.8.8"
  }
 },
 "nbformat": 4,
 "nbformat_minor": 5
}
