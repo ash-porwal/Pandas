{
 "cells": [
  {
   "cell_type": "code",
   "execution_count": 1,
   "metadata": {},
   "outputs": [],
   "source": [
    "import pandas as pd"
   ]
  },
  {
   "cell_type": "markdown",
   "metadata": {},
   "source": [
    "A `timestamp` represents **a single instant in time**"
   ]
  },
  {
   "cell_type": "code",
   "execution_count": 3,
   "metadata": {},
   "outputs": [
    {
     "data": {
      "text/plain": [
       "Timestamp('2024-03-23 00:00:00')"
      ]
     },
     "execution_count": 3,
     "metadata": {},
     "output_type": "execute_result"
    }
   ],
   "source": [
    "pd.Timestamp('23/03/2024') # Creating a time stamp"
   ]
  },
  {
   "cell_type": "markdown",
   "metadata": {},
   "source": [
    "So, this `timestamp` is constructor, and this is quite flexible with the formats"
   ]
  },
  {
   "cell_type": "code",
   "execution_count": 13,
   "metadata": {},
   "outputs": [],
   "source": [
    "def display_timestamp(input_text: str):\n",
    "    print(\"Printing time\")\n",
    "    print(pd.Timestamp(input_text))"
   ]
  },
  {
   "cell_type": "code",
   "execution_count": 16,
   "metadata": {},
   "outputs": [
    {
     "name": "stdout",
     "output_type": "stream",
     "text": [
      "Printing time\n",
      "2024-03-23 00:00:00\n",
      "Printing time\n",
      "2024-03-23 00:00:00\n",
      "Printing time\n",
      "2024-03-23 00:00:00\n",
      "Printing time\n",
      "2024-03-23 00:00:00\n",
      "Printing time\n",
      "2024-12-23 00:00:00\n",
      "Printing time\n",
      "2024-12-23 00:00:00\n"
     ]
    }
   ],
   "source": [
    "# going to give different formats in input\n",
    "display_timestamp('2024-03-23')\n",
    "display_timestamp('2024.03.23')\n",
    "display_timestamp('2024/03/23')\n",
    "display_timestamp('2024 March 23')\n",
    "display_timestamp('2024 Dec 23')\n",
    "display_timestamp('2024 December 23')"
   ]
  },
  {
   "cell_type": "markdown",
   "metadata": {},
   "source": [
    "Notice, above all gave the same results"
   ]
  },
  {
   "cell_type": "code",
   "execution_count": 19,
   "metadata": {},
   "outputs": [
    {
     "data": {
      "text/plain": [
       "Timestamp('2024-03-20 10:10:10')"
      ]
     },
     "execution_count": 19,
     "metadata": {},
     "output_type": "execute_result"
    }
   ],
   "source": [
    "# we can also pass Hours, Min and Sec\n",
    "pd.Timestamp(2024, 3, 20, 10, 10, 10)"
   ]
  },
  {
   "cell_type": "code",
   "execution_count": 21,
   "metadata": {},
   "outputs": [
    {
     "data": {
      "text/plain": [
       "Timestamp('2024-03-20 10:10:10')"
      ]
     },
     "execution_count": 21,
     "metadata": {},
     "output_type": "execute_result"
    }
   ],
   "source": [
    "# if above is confusion then we can pass like below too using the keywords\n",
    "pd.Timestamp(year=2024, month=3, day=20, hour=10, minute=10, second=10)\n"
   ]
  },
  {
   "cell_type": "markdown",
   "metadata": {},
   "source": [
    "`to_datetime()` - is similar to `Timestamp()` but more flexible (**can also convert lsits**)"
   ]
  },
  {
   "cell_type": "code",
   "execution_count": 23,
   "metadata": {},
   "outputs": [
    {
     "data": {
      "text/plain": [
       "DatetimeIndex(['2023-03-23', '2024-03-23'], dtype='datetime64[ns]', freq=None)"
      ]
     },
     "execution_count": 23,
     "metadata": {},
     "output_type": "execute_result"
    }
   ],
   "source": [
    "# if we pass a list of strings of dates\n",
    "pd.to_datetime(['2023.03.23', '2024.03.23'])"
   ]
  },
  {
   "cell_type": "markdown",
   "metadata": {},
   "source": [
    "`DatetimeIndex` is a collection of `Timestamp` objects"
   ]
  },
  {
   "cell_type": "code",
   "execution_count": 30,
   "metadata": {},
   "outputs": [
    {
     "data": {
      "text/plain": [
       "DatetimeIndex(['1997-01-01', 'NaT'], dtype='datetime64[ns]', freq=None)"
      ]
     },
     "execution_count": 30,
     "metadata": {},
     "output_type": "execute_result"
    }
   ],
   "source": [
    "# if we are passing the date which doesn't exists, then we can also handle it with errors\n",
    "pd.to_datetime(['1997', '2010/99/10'], errors='coerce') \n",
    "\n",
    "# we can either set error value to ignore or corece,\n",
    "# if setting value to coerce then it is going to convert anything that is not a valid datetime to NaT(Not a Time)"
   ]
  }
 ],
 "metadata": {
  "kernelspec": {
   "display_name": "Python 3",
   "language": "python",
   "name": "python3"
  },
  "language_info": {
   "codemirror_mode": {
    "name": "ipython",
    "version": 3
   },
   "file_extension": ".py",
   "mimetype": "text/x-python",
   "name": "python",
   "nbconvert_exporter": "python",
   "pygments_lexer": "ipython3",
   "version": "3.11.4"
  }
 },
 "nbformat": 4,
 "nbformat_minor": 2
}
