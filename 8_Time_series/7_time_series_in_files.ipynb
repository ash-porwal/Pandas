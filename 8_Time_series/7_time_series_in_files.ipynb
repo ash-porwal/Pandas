{
 "cells": [
  {
   "cell_type": "code",
   "execution_count": 12,
   "metadata": {},
   "outputs": [],
   "source": [
    "import pandas as pd"
   ]
  },
  {
   "cell_type": "code",
   "execution_count": 13,
   "metadata": {},
   "outputs": [
    {
     "data": {
      "text/plain": [
       "Index(['Unnamed: 0', 'symbol', 'date', 'close', 'high', 'low', 'open',\n",
       "       'volume', 'adjClose', 'adjHigh', 'adjLow', 'adjOpen', 'adjVolume',\n",
       "       'divCash', 'splitFactor'],\n",
       "      dtype='object')"
      ]
     },
     "execution_count": 13,
     "metadata": {},
     "output_type": "execute_result"
    }
   ],
   "source": [
    "df = pd.read_csv(\"AAPL.csv\")\n",
    "df.columns"
   ]
  },
  {
   "cell_type": "code",
   "execution_count": 14,
   "metadata": {},
   "outputs": [
    {
     "data": {
      "text/html": [
       "<div>\n",
       "<style scoped>\n",
       "    .dataframe tbody tr th:only-of-type {\n",
       "        vertical-align: middle;\n",
       "    }\n",
       "\n",
       "    .dataframe tbody tr th {\n",
       "        vertical-align: top;\n",
       "    }\n",
       "\n",
       "    .dataframe thead th {\n",
       "        text-align: right;\n",
       "    }\n",
       "</style>\n",
       "<table border=\"1\" class=\"dataframe\">\n",
       "  <thead>\n",
       "    <tr style=\"text-align: right;\">\n",
       "      <th></th>\n",
       "      <th>date</th>\n",
       "      <th>close</th>\n",
       "      <th>high</th>\n",
       "      <th>low</th>\n",
       "      <th>open</th>\n",
       "    </tr>\n",
       "  </thead>\n",
       "  <tbody>\n",
       "    <tr>\n",
       "      <th>0</th>\n",
       "      <td>2015-05-27 00:00:00+00:00</td>\n",
       "      <td>132.045</td>\n",
       "      <td>132.260</td>\n",
       "      <td>130.0500</td>\n",
       "      <td>130.34</td>\n",
       "    </tr>\n",
       "    <tr>\n",
       "      <th>1</th>\n",
       "      <td>2015-05-28 00:00:00+00:00</td>\n",
       "      <td>131.780</td>\n",
       "      <td>131.950</td>\n",
       "      <td>131.1000</td>\n",
       "      <td>131.86</td>\n",
       "    </tr>\n",
       "    <tr>\n",
       "      <th>2</th>\n",
       "      <td>2015-05-29 00:00:00+00:00</td>\n",
       "      <td>130.280</td>\n",
       "      <td>131.450</td>\n",
       "      <td>129.9000</td>\n",
       "      <td>131.23</td>\n",
       "    </tr>\n",
       "    <tr>\n",
       "      <th>3</th>\n",
       "      <td>2015-06-01 00:00:00+00:00</td>\n",
       "      <td>130.535</td>\n",
       "      <td>131.390</td>\n",
       "      <td>130.0500</td>\n",
       "      <td>131.20</td>\n",
       "    </tr>\n",
       "    <tr>\n",
       "      <th>4</th>\n",
       "      <td>2015-06-02 00:00:00+00:00</td>\n",
       "      <td>129.960</td>\n",
       "      <td>130.655</td>\n",
       "      <td>129.3200</td>\n",
       "      <td>129.86</td>\n",
       "    </tr>\n",
       "    <tr>\n",
       "      <th>...</th>\n",
       "      <td>...</td>\n",
       "      <td>...</td>\n",
       "      <td>...</td>\n",
       "      <td>...</td>\n",
       "      <td>...</td>\n",
       "    </tr>\n",
       "    <tr>\n",
       "      <th>1253</th>\n",
       "      <td>2020-05-18 00:00:00+00:00</td>\n",
       "      <td>314.960</td>\n",
       "      <td>316.500</td>\n",
       "      <td>310.3241</td>\n",
       "      <td>313.17</td>\n",
       "    </tr>\n",
       "    <tr>\n",
       "      <th>1254</th>\n",
       "      <td>2020-05-19 00:00:00+00:00</td>\n",
       "      <td>313.140</td>\n",
       "      <td>318.520</td>\n",
       "      <td>313.0100</td>\n",
       "      <td>315.03</td>\n",
       "    </tr>\n",
       "    <tr>\n",
       "      <th>1255</th>\n",
       "      <td>2020-05-20 00:00:00+00:00</td>\n",
       "      <td>319.230</td>\n",
       "      <td>319.520</td>\n",
       "      <td>316.2000</td>\n",
       "      <td>316.68</td>\n",
       "    </tr>\n",
       "    <tr>\n",
       "      <th>1256</th>\n",
       "      <td>2020-05-21 00:00:00+00:00</td>\n",
       "      <td>316.850</td>\n",
       "      <td>320.890</td>\n",
       "      <td>315.8700</td>\n",
       "      <td>318.66</td>\n",
       "    </tr>\n",
       "    <tr>\n",
       "      <th>1257</th>\n",
       "      <td>2020-05-22 00:00:00+00:00</td>\n",
       "      <td>318.890</td>\n",
       "      <td>319.230</td>\n",
       "      <td>315.3500</td>\n",
       "      <td>315.77</td>\n",
       "    </tr>\n",
       "  </tbody>\n",
       "</table>\n",
       "<p>1258 rows × 5 columns</p>\n",
       "</div>"
      ],
      "text/plain": [
       "                           date    close     high       low    open\n",
       "0     2015-05-27 00:00:00+00:00  132.045  132.260  130.0500  130.34\n",
       "1     2015-05-28 00:00:00+00:00  131.780  131.950  131.1000  131.86\n",
       "2     2015-05-29 00:00:00+00:00  130.280  131.450  129.9000  131.23\n",
       "3     2015-06-01 00:00:00+00:00  130.535  131.390  130.0500  131.20\n",
       "4     2015-06-02 00:00:00+00:00  129.960  130.655  129.3200  129.86\n",
       "...                         ...      ...      ...       ...     ...\n",
       "1253  2020-05-18 00:00:00+00:00  314.960  316.500  310.3241  313.17\n",
       "1254  2020-05-19 00:00:00+00:00  313.140  318.520  313.0100  315.03\n",
       "1255  2020-05-20 00:00:00+00:00  319.230  319.520  316.2000  316.68\n",
       "1256  2020-05-21 00:00:00+00:00  316.850  320.890  315.8700  318.66\n",
       "1257  2020-05-22 00:00:00+00:00  318.890  319.230  315.3500  315.77\n",
       "\n",
       "[1258 rows x 5 columns]"
      ]
     },
     "execution_count": 14,
     "metadata": {},
     "output_type": "execute_result"
    }
   ],
   "source": [
    "cols = ['date', 'high', 'low', 'open', 'close']\n",
    "\n",
    "apple_stocks = pd.read_csv(\"AAPL.csv\", usecols=cols)\n",
    "apple_stocks"
   ]
  },
  {
   "cell_type": "markdown",
   "metadata": {},
   "source": [
    "Reading datetime objects from files"
   ]
  },
  {
   "cell_type": "code",
   "execution_count": 15,
   "metadata": {},
   "outputs": [
    {
     "name": "stdout",
     "output_type": "stream",
     "text": [
      "<class 'pandas.core.frame.DataFrame'>\n",
      "RangeIndex: 1258 entries, 0 to 1257\n",
      "Data columns (total 5 columns):\n",
      " #   Column  Non-Null Count  Dtype  \n",
      "---  ------  --------------  -----  \n",
      " 0   date    1258 non-null   object \n",
      " 1   close   1258 non-null   float64\n",
      " 2   high    1258 non-null   float64\n",
      " 3   low     1258 non-null   float64\n",
      " 4   open    1258 non-null   float64\n",
      "dtypes: float64(4), object(1)\n",
      "memory usage: 49.3+ KB\n"
     ]
    }
   ],
   "source": [
    "apple_stocks.info()"
   ]
  },
  {
   "cell_type": "code",
   "execution_count": 16,
   "metadata": {},
   "outputs": [],
   "source": [
    "# setting out index to date\n",
    "apple_stocks.set_index('date', inplace=True)"
   ]
  },
  {
   "cell_type": "code",
   "execution_count": 17,
   "metadata": {},
   "outputs": [
    {
     "data": {
      "text/plain": [
       "Index(['2015-05-27 00:00:00+00:00', '2015-05-28 00:00:00+00:00',\n",
       "       '2015-05-29 00:00:00+00:00', '2015-06-01 00:00:00+00:00',\n",
       "       '2015-06-02 00:00:00+00:00', '2015-06-03 00:00:00+00:00',\n",
       "       '2015-06-04 00:00:00+00:00', '2015-06-05 00:00:00+00:00',\n",
       "       '2015-06-08 00:00:00+00:00', '2015-06-09 00:00:00+00:00',\n",
       "       ...\n",
       "       '2020-05-11 00:00:00+00:00', '2020-05-12 00:00:00+00:00',\n",
       "       '2020-05-13 00:00:00+00:00', '2020-05-14 00:00:00+00:00',\n",
       "       '2020-05-15 00:00:00+00:00', '2020-05-18 00:00:00+00:00',\n",
       "       '2020-05-19 00:00:00+00:00', '2020-05-20 00:00:00+00:00',\n",
       "       '2020-05-21 00:00:00+00:00', '2020-05-22 00:00:00+00:00'],\n",
       "      dtype='object', name='date', length=1258)"
      ]
     },
     "execution_count": 17,
     "metadata": {},
     "output_type": "execute_result"
    }
   ],
   "source": [
    "apple_stocks.index"
   ]
  },
  {
   "cell_type": "code",
   "execution_count": 18,
   "metadata": {},
   "outputs": [
    {
     "data": {
      "text/plain": [
       "DatetimeIndex(['2015-05-27 00:00:00+00:00', '2015-05-28 00:00:00+00:00',\n",
       "               '2015-05-29 00:00:00+00:00', '2015-06-01 00:00:00+00:00',\n",
       "               '2015-06-02 00:00:00+00:00', '2015-06-03 00:00:00+00:00',\n",
       "               '2015-06-04 00:00:00+00:00', '2015-06-05 00:00:00+00:00',\n",
       "               '2015-06-08 00:00:00+00:00', '2015-06-09 00:00:00+00:00',\n",
       "               ...\n",
       "               '2020-05-11 00:00:00+00:00', '2020-05-12 00:00:00+00:00',\n",
       "               '2020-05-13 00:00:00+00:00', '2020-05-14 00:00:00+00:00',\n",
       "               '2020-05-15 00:00:00+00:00', '2020-05-18 00:00:00+00:00',\n",
       "               '2020-05-19 00:00:00+00:00', '2020-05-20 00:00:00+00:00',\n",
       "               '2020-05-21 00:00:00+00:00', '2020-05-22 00:00:00+00:00'],\n",
       "              dtype='datetime64[ns, UTC]', name='date', length=1258, freq=None)"
      ]
     },
     "execution_count": 18,
     "metadata": {},
     "output_type": "execute_result"
    }
   ],
   "source": [
    "# converting into Datetime object\n",
    "pd.to_datetime(apple_stocks.index)"
   ]
  },
  {
   "cell_type": "markdown",
   "metadata": {},
   "source": [
    "We can also directly do that using `parse_dates` when reading csv"
   ]
  },
  {
   "cell_type": "code",
   "execution_count": 19,
   "metadata": {},
   "outputs": [
    {
     "name": "stdout",
     "output_type": "stream",
     "text": [
      "<class 'pandas.core.frame.DataFrame'>\n",
      "DatetimeIndex: 1258 entries, 2015-05-27 00:00:00+00:00 to 2020-05-22 00:00:00+00:00\n",
      "Data columns (total 4 columns):\n",
      " #   Column  Non-Null Count  Dtype  \n",
      "---  ------  --------------  -----  \n",
      " 0   close   1258 non-null   float64\n",
      " 1   high    1258 non-null   float64\n",
      " 2   low     1258 non-null   float64\n",
      " 3   open    1258 non-null   float64\n",
      "dtypes: float64(4)\n",
      "memory usage: 49.1 KB\n"
     ]
    }
   ],
   "source": [
    "apple_stocks = pd.read_csv(\n",
    "    \"AAPL.csv\", \n",
    "    usecols=cols,\n",
    "    parse_dates=['date'],\n",
    "    index_col='date')\n",
    "\n",
    "apple_stocks.info()"
   ]
  },
  {
   "cell_type": "markdown",
   "metadata": {},
   "source": [
    "Now we can use them as datetime objects"
   ]
  },
  {
   "cell_type": "code",
   "execution_count": 20,
   "metadata": {},
   "outputs": [
    {
     "data": {
      "text/plain": [
       "Index(['Wednesday', 'Thursday', 'Friday', 'Monday', 'Tuesday', 'Wednesday',\n",
       "       'Thursday', 'Friday', 'Monday', 'Tuesday',\n",
       "       ...\n",
       "       'Monday', 'Tuesday', 'Wednesday', 'Thursday', 'Friday', 'Monday',\n",
       "       'Tuesday', 'Wednesday', 'Thursday', 'Friday'],\n",
       "      dtype='object', name='date', length=1258)"
      ]
     },
     "execution_count": 20,
     "metadata": {},
     "output_type": "execute_result"
    }
   ],
   "source": [
    "days = apple_stocks.index.day_name()\n",
    "days"
   ]
  },
  {
   "cell_type": "code",
   "execution_count": 21,
   "metadata": {},
   "outputs": [
    {
     "data": {
      "text/html": [
       "<div>\n",
       "<style scoped>\n",
       "    .dataframe tbody tr th:only-of-type {\n",
       "        vertical-align: middle;\n",
       "    }\n",
       "\n",
       "    .dataframe tbody tr th {\n",
       "        vertical-align: top;\n",
       "    }\n",
       "\n",
       "    .dataframe thead th {\n",
       "        text-align: right;\n",
       "    }\n",
       "</style>\n",
       "<table border=\"1\" class=\"dataframe\">\n",
       "  <thead>\n",
       "    <tr style=\"text-align: right;\">\n",
       "      <th></th>\n",
       "      <th>day</th>\n",
       "      <th>close</th>\n",
       "      <th>high</th>\n",
       "      <th>low</th>\n",
       "      <th>open</th>\n",
       "    </tr>\n",
       "    <tr>\n",
       "      <th>date</th>\n",
       "      <th></th>\n",
       "      <th></th>\n",
       "      <th></th>\n",
       "      <th></th>\n",
       "      <th></th>\n",
       "    </tr>\n",
       "  </thead>\n",
       "  <tbody>\n",
       "    <tr>\n",
       "      <th>2015-05-27 00:00:00+00:00</th>\n",
       "      <td>Wednesday</td>\n",
       "      <td>132.045</td>\n",
       "      <td>132.260</td>\n",
       "      <td>130.0500</td>\n",
       "      <td>130.34</td>\n",
       "    </tr>\n",
       "    <tr>\n",
       "      <th>2015-05-28 00:00:00+00:00</th>\n",
       "      <td>Thursday</td>\n",
       "      <td>131.780</td>\n",
       "      <td>131.950</td>\n",
       "      <td>131.1000</td>\n",
       "      <td>131.86</td>\n",
       "    </tr>\n",
       "    <tr>\n",
       "      <th>2015-05-29 00:00:00+00:00</th>\n",
       "      <td>Friday</td>\n",
       "      <td>130.280</td>\n",
       "      <td>131.450</td>\n",
       "      <td>129.9000</td>\n",
       "      <td>131.23</td>\n",
       "    </tr>\n",
       "    <tr>\n",
       "      <th>2015-06-01 00:00:00+00:00</th>\n",
       "      <td>Monday</td>\n",
       "      <td>130.535</td>\n",
       "      <td>131.390</td>\n",
       "      <td>130.0500</td>\n",
       "      <td>131.20</td>\n",
       "    </tr>\n",
       "    <tr>\n",
       "      <th>2015-06-02 00:00:00+00:00</th>\n",
       "      <td>Tuesday</td>\n",
       "      <td>129.960</td>\n",
       "      <td>130.655</td>\n",
       "      <td>129.3200</td>\n",
       "      <td>129.86</td>\n",
       "    </tr>\n",
       "    <tr>\n",
       "      <th>...</th>\n",
       "      <td>...</td>\n",
       "      <td>...</td>\n",
       "      <td>...</td>\n",
       "      <td>...</td>\n",
       "      <td>...</td>\n",
       "    </tr>\n",
       "    <tr>\n",
       "      <th>2020-05-18 00:00:00+00:00</th>\n",
       "      <td>Monday</td>\n",
       "      <td>314.960</td>\n",
       "      <td>316.500</td>\n",
       "      <td>310.3241</td>\n",
       "      <td>313.17</td>\n",
       "    </tr>\n",
       "    <tr>\n",
       "      <th>2020-05-19 00:00:00+00:00</th>\n",
       "      <td>Tuesday</td>\n",
       "      <td>313.140</td>\n",
       "      <td>318.520</td>\n",
       "      <td>313.0100</td>\n",
       "      <td>315.03</td>\n",
       "    </tr>\n",
       "    <tr>\n",
       "      <th>2020-05-20 00:00:00+00:00</th>\n",
       "      <td>Wednesday</td>\n",
       "      <td>319.230</td>\n",
       "      <td>319.520</td>\n",
       "      <td>316.2000</td>\n",
       "      <td>316.68</td>\n",
       "    </tr>\n",
       "    <tr>\n",
       "      <th>2020-05-21 00:00:00+00:00</th>\n",
       "      <td>Thursday</td>\n",
       "      <td>316.850</td>\n",
       "      <td>320.890</td>\n",
       "      <td>315.8700</td>\n",
       "      <td>318.66</td>\n",
       "    </tr>\n",
       "    <tr>\n",
       "      <th>2020-05-22 00:00:00+00:00</th>\n",
       "      <td>Friday</td>\n",
       "      <td>318.890</td>\n",
       "      <td>319.230</td>\n",
       "      <td>315.3500</td>\n",
       "      <td>315.77</td>\n",
       "    </tr>\n",
       "  </tbody>\n",
       "</table>\n",
       "<p>1258 rows × 5 columns</p>\n",
       "</div>"
      ],
      "text/plain": [
       "                                 day    close     high       low    open\n",
       "date                                                                    \n",
       "2015-05-27 00:00:00+00:00  Wednesday  132.045  132.260  130.0500  130.34\n",
       "2015-05-28 00:00:00+00:00   Thursday  131.780  131.950  131.1000  131.86\n",
       "2015-05-29 00:00:00+00:00     Friday  130.280  131.450  129.9000  131.23\n",
       "2015-06-01 00:00:00+00:00     Monday  130.535  131.390  130.0500  131.20\n",
       "2015-06-02 00:00:00+00:00    Tuesday  129.960  130.655  129.3200  129.86\n",
       "...                              ...      ...      ...       ...     ...\n",
       "2020-05-18 00:00:00+00:00     Monday  314.960  316.500  310.3241  313.17\n",
       "2020-05-19 00:00:00+00:00    Tuesday  313.140  318.520  313.0100  315.03\n",
       "2020-05-20 00:00:00+00:00  Wednesday  319.230  319.520  316.2000  316.68\n",
       "2020-05-21 00:00:00+00:00   Thursday  316.850  320.890  315.8700  318.66\n",
       "2020-05-22 00:00:00+00:00     Friday  318.890  319.230  315.3500  315.77\n",
       "\n",
       "[1258 rows x 5 columns]"
      ]
     },
     "execution_count": 21,
     "metadata": {},
     "output_type": "execute_result"
    }
   ],
   "source": [
    "# adding date name columns\n",
    "apple_stocks.insert(0, 'day', days)\n",
    "apple_stocks"
   ]
  },
  {
   "cell_type": "markdown",
   "metadata": {},
   "source": [
    "If we read the csv without parsing the date, it will end up as regular object"
   ]
  },
  {
   "cell_type": "code",
   "execution_count": 22,
   "metadata": {},
   "outputs": [
    {
     "name": "stdout",
     "output_type": "stream",
     "text": [
      "<class 'pandas.core.frame.DataFrame'>\n",
      "RangeIndex: 1258 entries, 0 to 1257\n",
      "Data columns (total 5 columns):\n",
      " #   Column  Non-Null Count  Dtype  \n",
      "---  ------  --------------  -----  \n",
      " 0   date    1258 non-null   object \n",
      " 1   close   1258 non-null   float64\n",
      " 2   high    1258 non-null   float64\n",
      " 3   low     1258 non-null   float64\n",
      " 4   open    1258 non-null   float64\n",
      "dtypes: float64(4), object(1)\n",
      "memory usage: 49.3+ KB\n"
     ]
    }
   ],
   "source": [
    "apple_stocks = pd.read_csv(\n",
    "    \"AAPL.csv\", \n",
    "    usecols=cols,\n",
    "    )\n",
    "apple_stocks.info()"
   ]
  },
  {
   "cell_type": "markdown",
   "metadata": {},
   "source": [
    "Let's create a new date format that is not clean, so that we can try convert it to a valid Timestamp"
   ]
  },
  {
   "cell_type": "code",
   "execution_count": 23,
   "metadata": {},
   "outputs": [
    {
     "data": {
      "text/plain": [
       "0       &d.05.2015_00:00_AM\n",
       "1       &d.05.2015_00:00_AM\n",
       "2       &d.05.2015_00:00_AM\n",
       "3       &d.06.2015_00:00_AM\n",
       "4       &d.06.2015_00:00_AM\n",
       "               ...         \n",
       "1253    &d.05.2020_00:00_AM\n",
       "1254    &d.05.2020_00:00_AM\n",
       "1255    &d.05.2020_00:00_AM\n",
       "1256    &d.05.2020_00:00_AM\n",
       "1257    &d.05.2020_00:00_AM\n",
       "Name: date, Length: 1258, dtype: object"
      ]
     },
     "execution_count": 23,
     "metadata": {},
     "output_type": "execute_result"
    }
   ],
   "source": [
    "date = pd.to_datetime(apple_stocks['date'])\n",
    "new_format = date.dt.strftime('&d.%m.%Y_%H:%M_%p')\n",
    "new_format"
   ]
  },
  {
   "cell_type": "code",
   "execution_count": null,
   "metadata": {},
   "outputs": [],
   "source": []
  }
 ],
 "metadata": {
  "kernelspec": {
   "display_name": "Python 3",
   "language": "python",
   "name": "python3"
  },
  "language_info": {
   "codemirror_mode": {
    "name": "ipython",
    "version": 3
   },
   "file_extension": ".py",
   "mimetype": "text/x-python",
   "name": "python",
   "nbconvert_exporter": "python",
   "pygments_lexer": "ipython3",
   "version": "3.11.4"
  }
 },
 "nbformat": 4,
 "nbformat_minor": 2
}
