{
 "cells": [
  {
   "cell_type": "code",
   "execution_count": 1,
   "metadata": {},
   "outputs": [],
   "source": [
    "import pandas as pd"
   ]
  },
  {
   "cell_type": "markdown",
   "metadata": {},
   "source": [
    "`Timestamps` are a specific moment"
   ]
  },
  {
   "cell_type": "code",
   "execution_count": 3,
   "metadata": {},
   "outputs": [
    {
     "data": {
      "text/plain": [
       "Timestamp('2024-03-23 00:00:00')"
      ]
     },
     "execution_count": 3,
     "metadata": {},
     "output_type": "execute_result"
    }
   ],
   "source": [
    "pd.Timestamp('2024-03-23') # Refers to that date at  00:00:00 (Exact time)"
   ]
  },
  {
   "cell_type": "markdown",
   "metadata": {},
   "source": [
    "`Periods` represents a general timeframe"
   ]
  },
  {
   "cell_type": "code",
   "execution_count": 5,
   "metadata": {},
   "outputs": [
    {
     "data": {
      "text/plain": [
       "Period('2024-03-23', 'D')"
      ]
     },
     "execution_count": 5,
     "metadata": {},
     "output_type": "execute_result"
    }
   ],
   "source": [
    "pd.Period('2024-03-23') # Refers to the entire day of that date (24hrs)\n",
    "\n",
    "# in output is like this - \n",
    "# Period('2024-03-23', 'D')\n",
    "# on above output D(day) is the frequency - and it is not refering to a specific moment, and entire 24hrs"
   ]
  },
  {
   "cell_type": "markdown",
   "metadata": {},
   "source": [
    "`Periods` have very similar syntax to `Timestamps`"
   ]
  },
  {
   "cell_type": "code",
   "execution_count": 6,
   "metadata": {},
   "outputs": [
    {
     "data": {
      "text/plain": [
       "PeriodIndex(['2024-01-01', '2024-01-02', '2024-01-03', '2024-01-04',\n",
       "             '2024-01-05', '2024-01-06', '2024-01-07', '2024-01-08',\n",
       "             '2024-01-09', '2024-01-10', '2024-01-11', '2024-01-12',\n",
       "             '2024-01-13', '2024-01-14', '2024-01-15', '2024-01-16',\n",
       "             '2024-01-17', '2024-01-18', '2024-01-19', '2024-01-20',\n",
       "             '2024-01-21', '2024-01-22', '2024-01-23', '2024-01-24',\n",
       "             '2024-01-25', '2024-01-26', '2024-01-27', '2024-01-28',\n",
       "             '2024-01-29', '2024-01-30', '2024-01-31', '2024-02-01',\n",
       "             '2024-02-02', '2024-02-03', '2024-02-04', '2024-02-05',\n",
       "             '2024-02-06', '2024-02-07', '2024-02-08', '2024-02-09',\n",
       "             '2024-02-10', '2024-02-11', '2024-02-12', '2024-02-13',\n",
       "             '2024-02-14', '2024-02-15', '2024-02-16', '2024-02-17',\n",
       "             '2024-02-18', '2024-02-19', '2024-02-20', '2024-02-21',\n",
       "             '2024-02-22', '2024-02-23', '2024-02-24', '2024-02-25',\n",
       "             '2024-02-26', '2024-02-27', '2024-02-28', '2024-02-29',\n",
       "             '2024-03-01', '2024-03-02', '2024-03-03', '2024-03-04',\n",
       "             '2024-03-05', '2024-03-06', '2024-03-07', '2024-03-08',\n",
       "             '2024-03-09', '2024-03-10', '2024-03-11', '2024-03-12',\n",
       "             '2024-03-13', '2024-03-14', '2024-03-15', '2024-03-16',\n",
       "             '2024-03-17', '2024-03-18', '2024-03-19', '2024-03-20',\n",
       "             '2024-03-21', '2024-03-22', '2024-03-23', '2024-03-24',\n",
       "             '2024-03-25', '2024-03-26', '2024-03-27', '2024-03-28',\n",
       "             '2024-03-29', '2024-03-30', '2024-03-31'],\n",
       "            dtype='period[D]')"
      ]
     },
     "execution_count": 6,
     "metadata": {},
     "output_type": "execute_result"
    }
   ],
   "source": [
    "# for example - we can get date range\n",
    "pd.period_range(\n",
    "    start='2024-01-01',\n",
    "    end='2024-03-31'\n",
    ")"
   ]
  },
  {
   "cell_type": "code",
   "execution_count": 7,
   "metadata": {},
   "outputs": [
    {
     "data": {
      "text/plain": [
       "PeriodIndex(['2024-01', '2024-02', '2024-03'], dtype='period[M]')"
      ]
     },
     "execution_count": 7,
     "metadata": {},
     "output_type": "execute_result"
    }
   ],
   "source": [
    "pd.period_range(\n",
    "    start='2024-01-01',\n",
    "    end='2024-03-31',\n",
    "    freq='M'\n",
    ")"
   ]
  },
  {
   "cell_type": "markdown",
   "metadata": {},
   "source": [
    "`PeriodIndex` can be converted to `DatatimeIndex` using the following method"
   ]
  },
  {
   "cell_type": "code",
   "execution_count": 8,
   "metadata": {},
   "outputs": [
    {
     "data": {
      "text/plain": [
       "DatetimeIndex(['2022-01-01', '2022-01-02', '2022-01-03', '2022-01-04',\n",
       "               '2022-01-05', '2022-01-06', '2022-01-07', '2022-01-08',\n",
       "               '2022-01-09', '2022-01-10',\n",
       "               ...\n",
       "               '2022-12-23', '2022-12-24', '2022-12-25', '2022-12-26',\n",
       "               '2022-12-27', '2022-12-28', '2022-12-29', '2022-12-30',\n",
       "               '2022-12-31', '2023-01-01'],\n",
       "              dtype='datetime64[ns]', length=366, freq='D')"
      ]
     },
     "execution_count": 8,
     "metadata": {},
     "output_type": "execute_result"
    }
   ],
   "source": [
    "pd.period_range(\n",
    "    start='2022-01-01',\n",
    "    end='2023-01-01'\n",
    ").to_timestamp()"
   ]
  },
  {
   "cell_type": "code",
   "execution_count": 9,
   "metadata": {},
   "outputs": [
    {
     "data": {
      "text/plain": [
       "PeriodIndex(['2022-01-01', '2022-01-02', '2022-01-03', '2022-01-04',\n",
       "             '2022-01-05', '2022-01-06', '2022-01-07', '2022-01-08',\n",
       "             '2022-01-09', '2022-01-10',\n",
       "             ...\n",
       "             '2022-12-23', '2022-12-24', '2022-12-25', '2022-12-26',\n",
       "             '2022-12-27', '2022-12-28', '2022-12-29', '2022-12-30',\n",
       "             '2022-12-31', '2023-01-01'],\n",
       "            dtype='period[D]', length=366)"
      ]
     },
     "execution_count": 9,
     "metadata": {},
     "output_type": "execute_result"
    }
   ],
   "source": [
    "# above can work for date range to periodIndex as well\n",
    "pd.date_range(\n",
    "    start='2022-01-01',\n",
    "    end='2023-01-01'\n",
    ").to_period()"
   ]
  }
 ],
 "metadata": {
  "kernelspec": {
   "display_name": "Python 3",
   "language": "python",
   "name": "python3"
  },
  "language_info": {
   "codemirror_mode": {
    "name": "ipython",
    "version": 3
   },
   "file_extension": ".py",
   "mimetype": "text/x-python",
   "name": "python",
   "nbconvert_exporter": "python",
   "pygments_lexer": "ipython3",
   "version": "3.11.4"
  }
 },
 "nbformat": 4,
 "nbformat_minor": 2
}
