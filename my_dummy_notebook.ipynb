{
 "cells": [
  {
   "cell_type": "code",
   "execution_count": null,
   "id": "4b700fa1",
   "metadata": {},
   "outputs": [],
   "source": [
    "print(\"My dumm print statement\")"
   ]
  },
  {
   "cell_type": "markdown",
   "id": "4f157eca",
   "metadata": {},
   "source": [
    "### This is a title\n",
    "1. Fist"
   ]
  },
  {
   "cell_type": "code",
   "execution_count": null,
   "id": "2bb5165a",
   "metadata": {},
   "outputs": [],
   "source": [
    "# This is a comment\n",
    "x = 10\n",
    "x"
   ]
  }
 ],
 "metadata": {
  "kernelspec": {
   "display_name": "Python 3",
   "language": "python",
   "name": "python3"
  },
  "language_info": {
   "codemirror_mode": {
    "name": "ipython",
    "version": 3
   },
   "file_extension": ".py",
   "mimetype": "text/x-python",
   "name": "python",
   "nbconvert_exporter": "python",
   "pygments_lexer": "ipython3",
   "version": "3.8.8"
  }
 },
 "nbformat": 4,
 "nbformat_minor": 5
}
